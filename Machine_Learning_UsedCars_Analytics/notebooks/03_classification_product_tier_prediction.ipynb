{
  "nbformat": 4,
  "nbformat_minor": 5,
  "metadata": {
    "colab": {
      "name": "03_classification_product_tier_prediction.ipynb",
      "provenance": []
    },
    "kernelspec": {
      "display_name": "Python 3",
      "language": "python",
      "name": "python3"
    },
    "language_info": {
      "codemirror_mode": {
        "name": "ipython",
        "version": 3
      },
      "file_extension": ".py",
      "mimetype": "text/x-python",
      "name": "python",
      "nbconvert_exporter": "python",
      "pygments_lexer": "ipython3",
      "version": "3.8.8"
    }
  },
  "cells": [
    {
      "cell_type": "markdown",
      "metadata": {
        "id": "YeUi-_0DLhQl"
      },
      "source": [
        "# Predicting the product_tier column based on other columns\n",
        "\n",
        "**Author**: Wrijupan Bhattacharyya\n",
        "\n",
        "**Description**: This notebook is prepared for a Used Cars analytics project. The data consist of one csv files-\n",
        "  1. cleaned_data.csv - Contains the cleaned data on used car listings from the used car business (after removal of missing values and outliers)\n",
        "\n",
        "  **Task**: There is one main task this notebook is accomplishing-\n",
        "\n",
        "    1. Is it possible to predict the product tier from the information given in the other columns?\n",
        "\n",
        "Product tier is a categorical target, Hence the problem is treated as a Machine Learning classification with highly imbalanced class labels.\n",
        "\n",
        "**Metric**: \n",
        "\n",
        "1. Average of recall obtained on each class (this is given by the \"balanced_accuracy metric\").\n",
        "\n",
        "\n",
        "**Standardization**: A ColumnTransformer object from Scikit-learn is used to apply different scaling logic to the columns\n",
        "\n",
        "**Pipeline**: A Scikit-learn pipeline object is used for scaling and fitting the models to avoid data leakage\n",
        "\n",
        "**Hyperparameter tuning**: A grid search using RandomizedSearchCV is used to scan the parameter space of the models and evaluation is performed using 5-fold cross-validation\n",
        "\n",
        "**Models**: The main challenge here is to deal with the imbalanced classes. The following models have been tried:\n",
        "  1. Logistic Regression\n",
        "\n",
        "    A. Normal\n",
        "\n",
        "    B. With balanced class weights\n",
        "\n",
        "    C. Undersampling with RandomUnderSampler from imblearn\n",
        "\n",
        "    D. Oversampling with SMOTE from imblearn\n",
        "\n",
        "  2. Random Forest\n",
        "\n",
        "    A. Normal\n",
        "\n",
        "    B. With balanced class weights\n",
        "\n",
        "    C. Undersampling with RandomUnderSampler from imblearn\n",
        "\n",
        "    D. Oversampling with SMOTE from imblearn\n",
        "\n",
        "  3. XGBoost\n",
        "  \n",
        "    A. Undersampling with RandomUnderSampler from imblearn\n",
        "\n",
        "  4. BalancedBaggingClassifier with gradient-boosted base learners\n",
        "\n",
        "  \n",
        "\n",
        "**Contents**: The notebook contains the following sections-\n",
        "  1. Setting up the environment\n",
        "2. Loading the cleaned data\n",
        "3. Feature engineering\n",
        "4. Standization and normalization\n",
        "5. Diving the data into train and validation sets\n",
        "6. Training the models\n",
        "7. Evaluating the models\n",
        "\n",
        "\n",
        "  "
      ],
      "id": "YeUi-_0DLhQl"
    },
    {
      "cell_type": "markdown",
      "metadata": {
        "id": "L37elG2fMZp8"
      },
      "source": [
        "# 1. Setting up the environment\n"
      ],
      "id": "L37elG2fMZp8"
    },
    {
      "cell_type": "code",
      "metadata": {
        "id": "khWTIowDMpJS",
        "colab": {
          "base_uri": "https://localhost:8080/"
        },
        "outputId": "5d44f247-2636-47b1-b39e-9af6c6b76dde"
      },
      "source": [
        "!pip install imblearn"
      ],
      "id": "khWTIowDMpJS",
      "execution_count": 1,
      "outputs": [
        {
          "output_type": "stream",
          "text": [
            "Requirement already satisfied: imblearn in /usr/local/lib/python3.7/dist-packages (0.0)\n",
            "Requirement already satisfied: imbalanced-learn in /usr/local/lib/python3.7/dist-packages (from imblearn) (0.4.3)\n",
            "Requirement already satisfied: scikit-learn>=0.20 in /usr/local/lib/python3.7/dist-packages (from imbalanced-learn->imblearn) (0.22.2.post1)\n",
            "Requirement already satisfied: numpy>=1.8.2 in /usr/local/lib/python3.7/dist-packages (from imbalanced-learn->imblearn) (1.19.5)\n",
            "Requirement already satisfied: scipy>=0.13.3 in /usr/local/lib/python3.7/dist-packages (from imbalanced-learn->imblearn) (1.4.1)\n",
            "Requirement already satisfied: joblib>=0.11 in /usr/local/lib/python3.7/dist-packages (from scikit-learn>=0.20->imbalanced-learn->imblearn) (1.0.1)\n"
          ],
          "name": "stdout"
        }
      ]
    },
    {
      "cell_type": "code",
      "metadata": {
        "colab": {
          "base_uri": "https://localhost:8080/"
        },
        "id": "RHeST828LgG1",
        "outputId": "01c6fafc-2d91-4a3e-ff6c-0747012e526c"
      },
      "source": [
        "##########################################################\n",
        "# Import Python libraries\n",
        "##########################################################\n",
        "import pandas as pd\n",
        "import numpy as np\n",
        "import matplotlib.pyplot as plt\n",
        "import seaborn as sns\n",
        "\n",
        "##########################################################\n",
        "# Import Scikit-learn libraries\n",
        "##########################################################\n",
        "from sklearn.compose import ColumnTransformer\n",
        "from sklearn.dummy import DummyClassifier\n",
        "from sklearn.ensemble import RandomForestRegressor \n",
        "from sklearn.ensemble import RandomForestClassifier\n",
        "from sklearn.linear_model import LinearRegression\n",
        "from sklearn.linear_model import LogisticRegression\n",
        "from sklearn.linear_model import Lasso\n",
        "from sklearn.linear_model import Ridge\n",
        "from sklearn.metrics import mean_squared_error\n",
        "from sklearn.metrics import balanced_accuracy_score\n",
        "from sklearn.model_selection import train_test_split\n",
        "from sklearn.model_selection import RandomizedSearchCV\n",
        "from sklearn.model_selection import cross_val_score\n",
        "from sklearn.model_selection import cross_validate\n",
        "from sklearn.preprocessing import RobustScaler\n",
        "from sklearn.preprocessing import StandardScaler\n",
        "from sklearn.preprocessing import MinMaxScaler\n",
        "from sklearn.preprocessing import LabelEncoder\n",
        "from sklearn.pipeline import Pipeline, make_pipeline\n",
        "from sklearn.svm import SVR, SVC\n",
        "from sklearn.utils import class_weight\n",
        "from sklearn.utils import resample\n",
        "\n",
        "\n",
        "##########################################################\n",
        "# Import XGBoost\n",
        "##########################################################\n",
        "import xgboost as xgb\n",
        "\n",
        "# Imblearn\n",
        "from imblearn.over_sampling import SMOTE\n",
        "from imblearn.under_sampling import RandomUnderSampler\n",
        "from imblearn.pipeline import Pipeline as Pipeline_with_sampler\n",
        "from imblearn.pipeline import make_pipeline as make_pipeline_with_sampler\n",
        "from imblearn.ensemble import BalancedRandomForestClassifier\n",
        "from sklearn.experimental import enable_hist_gradient_boosting  \n",
        "from sklearn.ensemble import HistGradientBoostingClassifier\n",
        "from imblearn.ensemble import BalancedBaggingClassifier"
      ],
      "id": "RHeST828LgG1",
      "execution_count": 2,
      "outputs": [
        {
          "output_type": "stream",
          "text": [
            "/usr/local/lib/python3.7/dist-packages/sklearn/externals/six.py:31: FutureWarning: The module is deprecated in version 0.21 and will be removed in version 0.23 since we've dropped support for Python 2.7. Please rely on the official version of six (https://pypi.org/project/six/).\n",
            "  \"(https://pypi.org/project/six/).\", FutureWarning)\n",
            "/usr/local/lib/python3.7/dist-packages/sklearn/utils/deprecation.py:144: FutureWarning: The sklearn.neighbors.base module is  deprecated in version 0.22 and will be removed in version 0.24. The corresponding classes / functions should instead be imported from sklearn.neighbors. Anything that cannot be imported from sklearn.neighbors is now part of the private API.\n",
            "  warnings.warn(message, FutureWarning)\n",
            "/usr/local/lib/python3.7/dist-packages/sklearn/utils/deprecation.py:144: FutureWarning: The sklearn.ensemble.bagging module is  deprecated in version 0.22 and will be removed in version 0.24. The corresponding classes / functions should instead be imported from sklearn.ensemble. Anything that cannot be imported from sklearn.ensemble is now part of the private API.\n",
            "  warnings.warn(message, FutureWarning)\n",
            "/usr/local/lib/python3.7/dist-packages/sklearn/utils/deprecation.py:144: FutureWarning: The sklearn.ensemble.base module is  deprecated in version 0.22 and will be removed in version 0.24. The corresponding classes / functions should instead be imported from sklearn.ensemble. Anything that cannot be imported from sklearn.ensemble is now part of the private API.\n",
            "  warnings.warn(message, FutureWarning)\n",
            "/usr/local/lib/python3.7/dist-packages/sklearn/utils/deprecation.py:144: FutureWarning: The sklearn.ensemble.forest module is  deprecated in version 0.22 and will be removed in version 0.24. The corresponding classes / functions should instead be imported from sklearn.ensemble. Anything that cannot be imported from sklearn.ensemble is now part of the private API.\n",
            "  warnings.warn(message, FutureWarning)\n",
            "/usr/local/lib/python3.7/dist-packages/sklearn/externals/joblib/__init__.py:15: FutureWarning: sklearn.externals.joblib is deprecated in 0.21 and will be removed in 0.23. Please import this functionality directly from joblib, which can be installed with: pip install joblib. If this warning is raised when loading pickled models, you may need to re-serialize those models with scikit-learn 0.21+.\n",
            "  warnings.warn(msg, category=FutureWarning)\n"
          ],
          "name": "stderr"
        }
      ]
    },
    {
      "cell_type": "markdown",
      "metadata": {
        "id": "SHw9aiN_M2gt"
      },
      "source": [
        "### Mount google drive"
      ],
      "id": "SHw9aiN_M2gt"
    },
    {
      "cell_type": "code",
      "metadata": {
        "colab": {
          "base_uri": "https://localhost:8080/"
        },
        "id": "DDB-em0oM1VH",
        "outputId": "cf45f415-10dc-4b1b-f726-1d0089bc5e0f"
      },
      "source": [
        "from google.colab import drive\n",
        "drive.mount('/gdrive')\n",
        "# Navigate to the Google drive folder where the data is stored"
      ],
      "id": "DDB-em0oM1VH",
      "execution_count": 3,
      "outputs": [
        {
          "output_type": "stream",
          "text": [
            "Mounted at /gdrive\n"
          ],
          "name": "stdout"
        }
      ]
    },
    {
      "cell_type": "markdown",
      "metadata": {
        "id": "W45zNY0UM_XA"
      },
      "source": [
        "# 2. Importing the data"
      ],
      "id": "W45zNY0UM_XA"
    },
    {
      "cell_type": "code",
      "metadata": {
        "id": "rH-HsxT7M5Ci"
      },
      "source": [
        "data = pd.read_csv(\"./data/cleaned_data.csv\")"
      ],
      "id": "rH-HsxT7M5Ci",
      "execution_count": null,
      "outputs": []
    },
    {
      "cell_type": "code",
      "metadata": {
        "id": "cEFtiut0NChf"
      },
      "source": [
        "data = data.drop(columns=[\"Unnamed: 0\"])"
      ],
      "id": "cEFtiut0NChf",
      "execution_count": null,
      "outputs": []
    },
    {
      "cell_type": "code",
      "metadata": {
        "colab": {
          "base_uri": "https://localhost:8080/",
          "height": 258
        },
        "id": "iEAbs6M8NEp1",
        "outputId": "48778081-c6e0-4592-d822-85af06e46076"
      },
      "source": [
        "data.head()"
      ],
      "id": "iEAbs6M8NEp1",
      "execution_count": null,
      "outputs": [
        {
          "output_type": "execute_result",
          "data": {
            "text/html": [
              "<div>\n",
              "<style scoped>\n",
              "    .dataframe tbody tr th:only-of-type {\n",
              "        vertical-align: middle;\n",
              "    }\n",
              "\n",
              "    .dataframe tbody tr th {\n",
              "        vertical-align: top;\n",
              "    }\n",
              "\n",
              "    .dataframe thead th {\n",
              "        text-align: right;\n",
              "    }\n",
              "</style>\n",
              "<table border=\"1\" class=\"dataframe\">\n",
              "  <thead>\n",
              "    <tr style=\"text-align: right;\">\n",
              "      <th></th>\n",
              "      <th>product_tier</th>\n",
              "      <th>make_name</th>\n",
              "      <th>price</th>\n",
              "      <th>first_zip_digit</th>\n",
              "      <th>first_registration_year</th>\n",
              "      <th>search_views</th>\n",
              "      <th>detail_views</th>\n",
              "      <th>stock_days</th>\n",
              "      <th>ctr</th>\n",
              "      <th>created_month</th>\n",
              "      <th>created_dayofweek</th>\n",
              "      <th>created_day</th>\n",
              "      <th>deleted_year</th>\n",
              "      <th>deleted_month</th>\n",
              "      <th>deleted_dayofweek</th>\n",
              "      <th>deleted_day</th>\n",
              "    </tr>\n",
              "  </thead>\n",
              "  <tbody>\n",
              "    <tr>\n",
              "      <th>0</th>\n",
              "      <td>Basic</td>\n",
              "      <td>Mitsubishi</td>\n",
              "      <td>16750</td>\n",
              "      <td>5</td>\n",
              "      <td>2013</td>\n",
              "      <td>3091.0</td>\n",
              "      <td>123.0</td>\n",
              "      <td>30</td>\n",
              "      <td>0.039793</td>\n",
              "      <td>7</td>\n",
              "      <td>1</td>\n",
              "      <td>24</td>\n",
              "      <td>2018</td>\n",
              "      <td>8</td>\n",
              "      <td>4</td>\n",
              "      <td>24</td>\n",
              "    </tr>\n",
              "    <tr>\n",
              "      <th>1</th>\n",
              "      <td>Basic</td>\n",
              "      <td>Mercedes-Benz</td>\n",
              "      <td>35950</td>\n",
              "      <td>4</td>\n",
              "      <td>2015</td>\n",
              "      <td>3283.0</td>\n",
              "      <td>223.0</td>\n",
              "      <td>52</td>\n",
              "      <td>0.067926</td>\n",
              "      <td>8</td>\n",
              "      <td>3</td>\n",
              "      <td>16</td>\n",
              "      <td>2018</td>\n",
              "      <td>7</td>\n",
              "      <td>1</td>\n",
              "      <td>10</td>\n",
              "    </tr>\n",
              "    <tr>\n",
              "      <th>2</th>\n",
              "      <td>Basic</td>\n",
              "      <td>Ford</td>\n",
              "      <td>1750</td>\n",
              "      <td>6</td>\n",
              "      <td>2003</td>\n",
              "      <td>1856.0</td>\n",
              "      <td>26.0</td>\n",
              "      <td>101</td>\n",
              "      <td>0.014009</td>\n",
              "      <td>7</td>\n",
              "      <td>4</td>\n",
              "      <td>20</td>\n",
              "      <td>2018</td>\n",
              "      <td>10</td>\n",
              "      <td>0</td>\n",
              "      <td>29</td>\n",
              "    </tr>\n",
              "    <tr>\n",
              "      <th>3</th>\n",
              "      <td>Basic</td>\n",
              "      <td>Mercedes-Benz</td>\n",
              "      <td>26500</td>\n",
              "      <td>3</td>\n",
              "      <td>2014</td>\n",
              "      <td>490.0</td>\n",
              "      <td>20.0</td>\n",
              "      <td>12</td>\n",
              "      <td>0.040816</td>\n",
              "      <td>8</td>\n",
              "      <td>1</td>\n",
              "      <td>28</td>\n",
              "      <td>2018</td>\n",
              "      <td>8</td>\n",
              "      <td>3</td>\n",
              "      <td>9</td>\n",
              "    </tr>\n",
              "    <tr>\n",
              "      <th>4</th>\n",
              "      <td>Basic</td>\n",
              "      <td>Volkswagen</td>\n",
              "      <td>24890</td>\n",
              "      <td>6</td>\n",
              "      <td>2017</td>\n",
              "      <td>125.0</td>\n",
              "      <td>6.0</td>\n",
              "      <td>2</td>\n",
              "      <td>0.048000</td>\n",
              "      <td>10</td>\n",
              "      <td>5</td>\n",
              "      <td>20</td>\n",
              "      <td>2018</td>\n",
              "      <td>10</td>\n",
              "      <td>0</td>\n",
              "      <td>22</td>\n",
              "    </tr>\n",
              "  </tbody>\n",
              "</table>\n",
              "</div>"
            ],
            "text/plain": [
              "  product_tier      make_name  ...  deleted_dayofweek  deleted_day\n",
              "0        Basic     Mitsubishi  ...                  4           24\n",
              "1        Basic  Mercedes-Benz  ...                  1           10\n",
              "2        Basic           Ford  ...                  0           29\n",
              "3        Basic  Mercedes-Benz  ...                  3            9\n",
              "4        Basic     Volkswagen  ...                  0           22\n",
              "\n",
              "[5 rows x 16 columns]"
            ]
          },
          "metadata": {
            "tags": []
          },
          "execution_count": 6
        }
      ]
    },
    {
      "cell_type": "code",
      "metadata": {
        "colab": {
          "base_uri": "https://localhost:8080/",
          "height": 258
        },
        "id": "-pnCG_YtNGTI",
        "outputId": "d56e6c95-cc89-40c0-d455-406a46df1e0f"
      },
      "source": [
        "data.head()"
      ],
      "id": "-pnCG_YtNGTI",
      "execution_count": null,
      "outputs": [
        {
          "output_type": "execute_result",
          "data": {
            "text/html": [
              "<div>\n",
              "<style scoped>\n",
              "    .dataframe tbody tr th:only-of-type {\n",
              "        vertical-align: middle;\n",
              "    }\n",
              "\n",
              "    .dataframe tbody tr th {\n",
              "        vertical-align: top;\n",
              "    }\n",
              "\n",
              "    .dataframe thead th {\n",
              "        text-align: right;\n",
              "    }\n",
              "</style>\n",
              "<table border=\"1\" class=\"dataframe\">\n",
              "  <thead>\n",
              "    <tr style=\"text-align: right;\">\n",
              "      <th></th>\n",
              "      <th>product_tier</th>\n",
              "      <th>make_name</th>\n",
              "      <th>price</th>\n",
              "      <th>first_zip_digit</th>\n",
              "      <th>first_registration_year</th>\n",
              "      <th>search_views</th>\n",
              "      <th>detail_views</th>\n",
              "      <th>stock_days</th>\n",
              "      <th>ctr</th>\n",
              "      <th>created_month</th>\n",
              "      <th>created_dayofweek</th>\n",
              "      <th>created_day</th>\n",
              "      <th>deleted_year</th>\n",
              "      <th>deleted_month</th>\n",
              "      <th>deleted_dayofweek</th>\n",
              "      <th>deleted_day</th>\n",
              "    </tr>\n",
              "  </thead>\n",
              "  <tbody>\n",
              "    <tr>\n",
              "      <th>0</th>\n",
              "      <td>Basic</td>\n",
              "      <td>Mitsubishi</td>\n",
              "      <td>16750</td>\n",
              "      <td>5</td>\n",
              "      <td>2013</td>\n",
              "      <td>3091.0</td>\n",
              "      <td>123.0</td>\n",
              "      <td>30</td>\n",
              "      <td>0.039793</td>\n",
              "      <td>7</td>\n",
              "      <td>1</td>\n",
              "      <td>24</td>\n",
              "      <td>2018</td>\n",
              "      <td>8</td>\n",
              "      <td>4</td>\n",
              "      <td>24</td>\n",
              "    </tr>\n",
              "    <tr>\n",
              "      <th>1</th>\n",
              "      <td>Basic</td>\n",
              "      <td>Mercedes-Benz</td>\n",
              "      <td>35950</td>\n",
              "      <td>4</td>\n",
              "      <td>2015</td>\n",
              "      <td>3283.0</td>\n",
              "      <td>223.0</td>\n",
              "      <td>52</td>\n",
              "      <td>0.067926</td>\n",
              "      <td>8</td>\n",
              "      <td>3</td>\n",
              "      <td>16</td>\n",
              "      <td>2018</td>\n",
              "      <td>7</td>\n",
              "      <td>1</td>\n",
              "      <td>10</td>\n",
              "    </tr>\n",
              "    <tr>\n",
              "      <th>2</th>\n",
              "      <td>Basic</td>\n",
              "      <td>Ford</td>\n",
              "      <td>1750</td>\n",
              "      <td>6</td>\n",
              "      <td>2003</td>\n",
              "      <td>1856.0</td>\n",
              "      <td>26.0</td>\n",
              "      <td>101</td>\n",
              "      <td>0.014009</td>\n",
              "      <td>7</td>\n",
              "      <td>4</td>\n",
              "      <td>20</td>\n",
              "      <td>2018</td>\n",
              "      <td>10</td>\n",
              "      <td>0</td>\n",
              "      <td>29</td>\n",
              "    </tr>\n",
              "    <tr>\n",
              "      <th>3</th>\n",
              "      <td>Basic</td>\n",
              "      <td>Mercedes-Benz</td>\n",
              "      <td>26500</td>\n",
              "      <td>3</td>\n",
              "      <td>2014</td>\n",
              "      <td>490.0</td>\n",
              "      <td>20.0</td>\n",
              "      <td>12</td>\n",
              "      <td>0.040816</td>\n",
              "      <td>8</td>\n",
              "      <td>1</td>\n",
              "      <td>28</td>\n",
              "      <td>2018</td>\n",
              "      <td>8</td>\n",
              "      <td>3</td>\n",
              "      <td>9</td>\n",
              "    </tr>\n",
              "    <tr>\n",
              "      <th>4</th>\n",
              "      <td>Basic</td>\n",
              "      <td>Volkswagen</td>\n",
              "      <td>24890</td>\n",
              "      <td>6</td>\n",
              "      <td>2017</td>\n",
              "      <td>125.0</td>\n",
              "      <td>6.0</td>\n",
              "      <td>2</td>\n",
              "      <td>0.048000</td>\n",
              "      <td>10</td>\n",
              "      <td>5</td>\n",
              "      <td>20</td>\n",
              "      <td>2018</td>\n",
              "      <td>10</td>\n",
              "      <td>0</td>\n",
              "      <td>22</td>\n",
              "    </tr>\n",
              "  </tbody>\n",
              "</table>\n",
              "</div>"
            ],
            "text/plain": [
              "  product_tier      make_name  ...  deleted_dayofweek  deleted_day\n",
              "0        Basic     Mitsubishi  ...                  4           24\n",
              "1        Basic  Mercedes-Benz  ...                  1           10\n",
              "2        Basic           Ford  ...                  0           29\n",
              "3        Basic  Mercedes-Benz  ...                  3            9\n",
              "4        Basic     Volkswagen  ...                  0           22\n",
              "\n",
              "[5 rows x 16 columns]"
            ]
          },
          "metadata": {
            "tags": []
          },
          "execution_count": 7
        }
      ]
    },
    {
      "cell_type": "markdown",
      "metadata": {
        "id": "M2MFenz2NJ7-"
      },
      "source": [
        "# 3. Feature engineering"
      ],
      "id": "M2MFenz2NJ7-"
    },
    {
      "cell_type": "code",
      "metadata": {
        "colab": {
          "base_uri": "https://localhost:8080/",
          "height": 406
        },
        "id": "6c9RAGlNNQk2",
        "outputId": "55831ca1-47a4-4e3b-ab5b-9fae0657ecba"
      },
      "source": [
        "# Visualizing the target column: product tier\n",
        "plt. figure(figsize=(8, 6))\n",
        "sns.countplot(x='product_tier', data=data)"
      ],
      "id": "6c9RAGlNNQk2",
      "execution_count": null,
      "outputs": [
        {
          "output_type": "execute_result",
          "data": {
            "text/plain": [
              "<matplotlib.axes._subplots.AxesSubplot at 0x7f264c7e50d0>"
            ]
          },
          "metadata": {
            "tags": []
          },
          "execution_count": 8
        },
        {
          "output_type": "display_data",
          "data": {
            "image/png": "[encoded data removed]",
            "text/plain": [
              "<Figure size 576x432 with 1 Axes>"
            ]
          },
          "metadata": {
            "tags": [],
            "needs_background": "light"
          }
        }
      ]
    },
    {
      "cell_type": "code",
      "metadata": {
        "colab": {
          "base_uri": "https://localhost:8080/"
        },
        "id": "V1Oruw4qNIWS",
        "outputId": "0abbce55-6930-461d-9a16-d475f08fd9d7"
      },
      "source": [
        "print(data.product_tier.value_counts())"
      ],
      "id": "V1Oruw4qNIWS",
      "execution_count": null,
      "outputs": [
        {
          "output_type": "stream",
          "text": [
            "Basic      69689\n",
            "Premium     1731\n",
            "Plus         513\n",
            "Name: product_tier, dtype: int64\n"
          ],
          "name": "stdout"
        }
      ]
    },
    {
      "cell_type": "markdown",
      "metadata": {
        "id": "y-s6m-yVNeSc"
      },
      "source": [
        "The class labels are highly imbalanced as apparent from the above figure and value counts. Apart from the feature engineering, specific techniques will be applied to fight the bias against imbalanced class labels."
      ],
      "id": "y-s6m-yVNeSc"
    },
    {
      "cell_type": "markdown",
      "metadata": {
        "id": "MazIWliJOI8U"
      },
      "source": [
        "### 3.1 Years since first registration\n",
        "\n",
        "This is a new feature indicating how long has passed since the last registration of the car listing."
      ],
      "id": "MazIWliJOI8U"
    },
    {
      "cell_type": "code",
      "metadata": {
        "id": "ZUqNoJP9Nc_V"
      },
      "source": [
        "data['yrs_since_first_reg'] = data['deleted_year'] - data['first_registration_year']"
      ],
      "id": "ZUqNoJP9Nc_V",
      "execution_count": null,
      "outputs": []
    },
    {
      "cell_type": "code",
      "metadata": {
        "colab": {
          "base_uri": "https://localhost:8080/",
          "height": 406
        },
        "id": "CX9s-udBOW2p",
        "outputId": "b35c119c-88fe-44fe-b432-db1897461471"
      },
      "source": [
        "### yrs_since_first_reg vs product_tier\n",
        "plt.figure(figsize=(8, 6))\n",
        "\n",
        "sns.barplot(x='product_tier', y='yrs_since_first_reg', data=data)"
      ],
      "id": "CX9s-udBOW2p",
      "execution_count": null,
      "outputs": [
        {
          "output_type": "execute_result",
          "data": {
            "text/plain": [
              "<matplotlib.axes._subplots.AxesSubplot at 0x7f265c393d90>"
            ]
          },
          "metadata": {
            "tags": []
          },
          "execution_count": 11
        },
        {
          "output_type": "display_data",
          "data": {
            "image/png": "[encoded data removed]",
            "text/plain": [
              "<Figure size 576x432 with 1 Axes>"
            ]
          },
          "metadata": {
            "tags": [],
            "needs_background": "light"
          }
        }
      ]
    },
    {
      "cell_type": "markdown",
      "metadata": {
        "id": "nJ3M-xWLOkoX"
      },
      "source": [
        "### 3.2 Price per click\n",
        "\n",
        "A new feature is generated by multiplying the price with the click through rate"
      ],
      "id": "nJ3M-xWLOkoX"
    },
    {
      "cell_type": "code",
      "metadata": {
        "id": "7q5UcnhCOb34"
      },
      "source": [
        "data['price_per_click'] = data['price'] * data['ctr']"
      ],
      "id": "7q5UcnhCOb34",
      "execution_count": null,
      "outputs": []
    },
    {
      "cell_type": "code",
      "metadata": {
        "colab": {
          "base_uri": "https://localhost:8080/",
          "height": 406
        },
        "id": "qBY_aQ5rOuGx",
        "outputId": "b0193fe8-594b-4985-ec7d-7be9d9de7de4"
      },
      "source": [
        "### yrs_since_first_reg vs product_tier\n",
        "plt.figure(figsize=(8, 6))\n",
        "\n",
        "sns.barplot(x='product_tier', y='price_per_click', data=data)"
      ],
      "id": "qBY_aQ5rOuGx",
      "execution_count": null,
      "outputs": [
        {
          "output_type": "execute_result",
          "data": {
            "text/plain": [
              "<matplotlib.axes._subplots.AxesSubplot at 0x7f264a9e3b50>"
            ]
          },
          "metadata": {
            "tags": []
          },
          "execution_count": 13
        },
        {
          "output_type": "display_data",
          "data": {
            "image/png": "[encoded data removed]",
            "text/plain": [
              "<Figure size 576x432 with 1 Axes>"
            ]
          },
          "metadata": {
            "tags": [],
            "needs_background": "light"
          }
        }
      ]
    },
    {
      "cell_type": "markdown",
      "metadata": {
        "id": "zZ9KistAO58q"
      },
      "source": [
        "### 3.3 Dropping certain features\n",
        "Certain features out of which already new features are engineered or those that do not act as the major distinguishing factors for the product_tier are dropped."
      ],
      "id": "zZ9KistAO58q"
    },
    {
      "cell_type": "code",
      "metadata": {
        "id": "zfEftf5hOyc5"
      },
      "source": [
        "data2 = data.drop(columns=['created_month', \n",
        "                              'created_dayofweek', 'created_day', 'deleted_day',\n",
        "                              'deleted_year', 'deleted_month', 'deleted_dayofweek', \n",
        "                              'price', 'ctr'])"
      ],
      "id": "zfEftf5hOyc5",
      "execution_count": null,
      "outputs": []
    },
    {
      "cell_type": "code",
      "metadata": {
        "id": "-wEiacRWPVF_"
      },
      "source": [
        "data3 = data2.drop(columns=['first_registration_year'])"
      ],
      "id": "-wEiacRWPVF_",
      "execution_count": null,
      "outputs": []
    },
    {
      "cell_type": "markdown",
      "metadata": {
        "id": "sd9VAkBZPibJ"
      },
      "source": [
        "### 3.4 Label encoding the product tier column"
      ],
      "id": "sd9VAkBZPibJ"
    },
    {
      "cell_type": "code",
      "metadata": {
        "colab": {
          "base_uri": "https://localhost:8080/",
          "height": 204
        },
        "id": "yinsZMlePeyO",
        "outputId": "cc7ba108-114e-41b0-be6c-6d96f1fdce88"
      },
      "source": [
        "### Product tier\n",
        "le = LabelEncoder()\n",
        "\n",
        "data3['product_tier'] = le.fit_transform(data3['product_tier'])\n",
        "data3.head()"
      ],
      "id": "yinsZMlePeyO",
      "execution_count": null,
      "outputs": [
        {
          "output_type": "execute_result",
          "data": {
            "text/html": [
              "<div>\n",
              "<style scoped>\n",
              "    .dataframe tbody tr th:only-of-type {\n",
              "        vertical-align: middle;\n",
              "    }\n",
              "\n",
              "    .dataframe tbody tr th {\n",
              "        vertical-align: top;\n",
              "    }\n",
              "\n",
              "    .dataframe thead th {\n",
              "        text-align: right;\n",
              "    }\n",
              "</style>\n",
              "<table border=\"1\" class=\"dataframe\">\n",
              "  <thead>\n",
              "    <tr style=\"text-align: right;\">\n",
              "      <th></th>\n",
              "      <th>product_tier</th>\n",
              "      <th>make_name</th>\n",
              "      <th>first_zip_digit</th>\n",
              "      <th>search_views</th>\n",
              "      <th>detail_views</th>\n",
              "      <th>stock_days</th>\n",
              "      <th>yrs_since_first_reg</th>\n",
              "      <th>price_per_click</th>\n",
              "    </tr>\n",
              "  </thead>\n",
              "  <tbody>\n",
              "    <tr>\n",
              "      <th>0</th>\n",
              "      <td>0</td>\n",
              "      <td>Mitsubishi</td>\n",
              "      <td>5</td>\n",
              "      <td>3091.0</td>\n",
              "      <td>123.0</td>\n",
              "      <td>30</td>\n",
              "      <td>5</td>\n",
              "      <td>666.531867</td>\n",
              "    </tr>\n",
              "    <tr>\n",
              "      <th>1</th>\n",
              "      <td>0</td>\n",
              "      <td>Mercedes-Benz</td>\n",
              "      <td>4</td>\n",
              "      <td>3283.0</td>\n",
              "      <td>223.0</td>\n",
              "      <td>52</td>\n",
              "      <td>3</td>\n",
              "      <td>2441.928115</td>\n",
              "    </tr>\n",
              "    <tr>\n",
              "      <th>2</th>\n",
              "      <td>0</td>\n",
              "      <td>Ford</td>\n",
              "      <td>6</td>\n",
              "      <td>1856.0</td>\n",
              "      <td>26.0</td>\n",
              "      <td>101</td>\n",
              "      <td>15</td>\n",
              "      <td>24.515086</td>\n",
              "    </tr>\n",
              "    <tr>\n",
              "      <th>3</th>\n",
              "      <td>0</td>\n",
              "      <td>Mercedes-Benz</td>\n",
              "      <td>3</td>\n",
              "      <td>490.0</td>\n",
              "      <td>20.0</td>\n",
              "      <td>12</td>\n",
              "      <td>4</td>\n",
              "      <td>1081.632653</td>\n",
              "    </tr>\n",
              "    <tr>\n",
              "      <th>4</th>\n",
              "      <td>0</td>\n",
              "      <td>Volkswagen</td>\n",
              "      <td>6</td>\n",
              "      <td>125.0</td>\n",
              "      <td>6.0</td>\n",
              "      <td>2</td>\n",
              "      <td>1</td>\n",
              "      <td>1194.720000</td>\n",
              "    </tr>\n",
              "  </tbody>\n",
              "</table>\n",
              "</div>"
            ],
            "text/plain": [
              "   product_tier      make_name  ...  yrs_since_first_reg  price_per_click\n",
              "0             0     Mitsubishi  ...                    5       666.531867\n",
              "1             0  Mercedes-Benz  ...                    3      2441.928115\n",
              "2             0           Ford  ...                   15        24.515086\n",
              "3             0  Mercedes-Benz  ...                    4      1081.632653\n",
              "4             0     Volkswagen  ...                    1      1194.720000\n",
              "\n",
              "[5 rows x 8 columns]"
            ]
          },
          "metadata": {
            "tags": []
          },
          "execution_count": 16
        }
      ]
    },
    {
      "cell_type": "markdown",
      "metadata": {
        "id": "GZc1KKwPPv7z"
      },
      "source": [
        "### 3.5 One-hot encoding the make_name column"
      ],
      "id": "GZc1KKwPPv7z"
    },
    {
      "cell_type": "code",
      "metadata": {
        "id": "IxwKimZoPsoZ"
      },
      "source": [
        "data4 = pd.get_dummies(data3, \n",
        "                       columns=['make_name'], \n",
        "                       drop_first=True)"
      ],
      "id": "IxwKimZoPsoZ",
      "execution_count": null,
      "outputs": []
    },
    {
      "cell_type": "code",
      "metadata": {
        "colab": {
          "base_uri": "https://localhost:8080/",
          "height": 241
        },
        "id": "rGYgRUdFQEbX",
        "outputId": "9082fcba-ebe1-447e-f494-1d1e159a14fd"
      },
      "source": [
        "data4.head()"
      ],
      "id": "rGYgRUdFQEbX",
      "execution_count": null,
      "outputs": [
        {
          "output_type": "execute_result",
          "data": {
            "text/html": [
              "<div>\n",
              "<style scoped>\n",
              "    .dataframe tbody tr th:only-of-type {\n",
              "        vertical-align: middle;\n",
              "    }\n",
              "\n",
              "    .dataframe tbody tr th {\n",
              "        vertical-align: top;\n",
              "    }\n",
              "\n",
              "    .dataframe thead th {\n",
              "        text-align: right;\n",
              "    }\n",
              "</style>\n",
              "<table border=\"1\" class=\"dataframe\">\n",
              "  <thead>\n",
              "    <tr style=\"text-align: right;\">\n",
              "      <th></th>\n",
              "      <th>product_tier</th>\n",
              "      <th>first_zip_digit</th>\n",
              "      <th>search_views</th>\n",
              "      <th>detail_views</th>\n",
              "      <th>stock_days</th>\n",
              "      <th>yrs_since_first_reg</th>\n",
              "      <th>price_per_click</th>\n",
              "      <th>make_name_Aixam</th>\n",
              "      <th>make_name_Alfa Romeo</th>\n",
              "      <th>make_name_Alpina</th>\n",
              "      <th>make_name_Aston Martin</th>\n",
              "      <th>make_name_Audi</th>\n",
              "      <th>make_name_BMW</th>\n",
              "      <th>make_name_Bentley</th>\n",
              "      <th>make_name_Buick</th>\n",
              "      <th>make_name_Cadillac</th>\n",
              "      <th>make_name_Caravans-Wohnm</th>\n",
              "      <th>make_name_Casalini</th>\n",
              "      <th>make_name_Chatenet</th>\n",
              "      <th>make_name_Chevrolet</th>\n",
              "      <th>make_name_Chrysler</th>\n",
              "      <th>make_name_Citroen</th>\n",
              "      <th>make_name_DFSK</th>\n",
              "      <th>make_name_DS Automobiles</th>\n",
              "      <th>make_name_Dacia</th>\n",
              "      <th>make_name_Daewoo</th>\n",
              "      <th>make_name_Daihatsu</th>\n",
              "      <th>make_name_Dodge</th>\n",
              "      <th>make_name_FISKER</th>\n",
              "      <th>make_name_Fiat</th>\n",
              "      <th>make_name_Ford</th>\n",
              "      <th>make_name_GMC</th>\n",
              "      <th>make_name_Grecav</th>\n",
              "      <th>make_name_HUMMER</th>\n",
              "      <th>make_name_Honda</th>\n",
              "      <th>make_name_Hyundai</th>\n",
              "      <th>make_name_Infiniti</th>\n",
              "      <th>make_name_Isuzu</th>\n",
              "      <th>make_name_Iveco</th>\n",
              "      <th>make_name_Jaguar</th>\n",
              "      <th>make_name_Jeep</th>\n",
              "      <th>make_name_KTM</th>\n",
              "      <th>make_name_Kawasaki</th>\n",
              "      <th>make_name_Kia</th>\n",
              "      <th>make_name_Lancia</th>\n",
              "      <th>make_name_Land Rover</th>\n",
              "      <th>make_name_Lexus</th>\n",
              "      <th>make_name_Ligier</th>\n",
              "      <th>make_name_Lincoln</th>\n",
              "      <th>make_name_MAN</th>\n",
              "      <th>make_name_MG</th>\n",
              "      <th>make_name_MINI</th>\n",
              "      <th>make_name_Maserati</th>\n",
              "      <th>make_name_Mazda</th>\n",
              "      <th>make_name_Mercedes-Benz</th>\n",
              "      <th>make_name_Microcar</th>\n",
              "      <th>make_name_Mitsubishi</th>\n",
              "      <th>make_name_Morgan</th>\n",
              "      <th>make_name_Nissan</th>\n",
              "      <th>make_name_Opel</th>\n",
              "      <th>make_name_Others</th>\n",
              "      <th>make_name_Peugeot</th>\n",
              "      <th>make_name_Porsche</th>\n",
              "      <th>make_name_Renault</th>\n",
              "      <th>make_name_Rover</th>\n",
              "      <th>make_name_SEAT</th>\n",
              "      <th>make_name_Saab</th>\n",
              "      <th>make_name_Skoda</th>\n",
              "      <th>make_name_SsangYong</th>\n",
              "      <th>make_name_Subaru</th>\n",
              "      <th>make_name_Suzuki</th>\n",
              "      <th>make_name_Tesla</th>\n",
              "      <th>make_name_Toyota</th>\n",
              "      <th>make_name_Triumph</th>\n",
              "      <th>make_name_Trucks-Lkw</th>\n",
              "      <th>make_name_Volkswagen</th>\n",
              "      <th>make_name_Volvo</th>\n",
              "      <th>make_name_smart</th>\n",
              "    </tr>\n",
              "  </thead>\n",
              "  <tbody>\n",
              "    <tr>\n",
              "      <th>0</th>\n",
              "      <td>0</td>\n",
              "      <td>5</td>\n",
              "      <td>3091.0</td>\n",
              "      <td>123.0</td>\n",
              "      <td>30</td>\n",
              "      <td>5</td>\n",
              "      <td>666.531867</td>\n",
              "      <td>0</td>\n",
              "      <td>0</td>\n",
              "      <td>0</td>\n",
              "      <td>0</td>\n",
              "      <td>0</td>\n",
              "      <td>0</td>\n",
              "      <td>0</td>\n",
              "      <td>0</td>\n",
              "      <td>0</td>\n",
              "      <td>0</td>\n",
              "      <td>0</td>\n",
              "      <td>0</td>\n",
              "      <td>0</td>\n",
              "      <td>0</td>\n",
              "      <td>0</td>\n",
              "      <td>0</td>\n",
              "      <td>0</td>\n",
              "      <td>0</td>\n",
              "      <td>0</td>\n",
              "      <td>0</td>\n",
              "      <td>0</td>\n",
              "      <td>0</td>\n",
              "      <td>0</td>\n",
              "      <td>0</td>\n",
              "      <td>0</td>\n",
              "      <td>0</td>\n",
              "      <td>0</td>\n",
              "      <td>0</td>\n",
              "      <td>0</td>\n",
              "      <td>0</td>\n",
              "      <td>0</td>\n",
              "      <td>0</td>\n",
              "      <td>0</td>\n",
              "      <td>0</td>\n",
              "      <td>0</td>\n",
              "      <td>0</td>\n",
              "      <td>0</td>\n",
              "      <td>0</td>\n",
              "      <td>0</td>\n",
              "      <td>0</td>\n",
              "      <td>0</td>\n",
              "      <td>0</td>\n",
              "      <td>0</td>\n",
              "      <td>0</td>\n",
              "      <td>0</td>\n",
              "      <td>0</td>\n",
              "      <td>0</td>\n",
              "      <td>0</td>\n",
              "      <td>0</td>\n",
              "      <td>1</td>\n",
              "      <td>0</td>\n",
              "      <td>0</td>\n",
              "      <td>0</td>\n",
              "      <td>0</td>\n",
              "      <td>0</td>\n",
              "      <td>0</td>\n",
              "      <td>0</td>\n",
              "      <td>0</td>\n",
              "      <td>0</td>\n",
              "      <td>0</td>\n",
              "      <td>0</td>\n",
              "      <td>0</td>\n",
              "      <td>0</td>\n",
              "      <td>0</td>\n",
              "      <td>0</td>\n",
              "      <td>0</td>\n",
              "      <td>0</td>\n",
              "      <td>0</td>\n",
              "      <td>0</td>\n",
              "      <td>0</td>\n",
              "      <td>0</td>\n",
              "    </tr>\n",
              "    <tr>\n",
              "      <th>1</th>\n",
              "      <td>0</td>\n",
              "      <td>4</td>\n",
              "      <td>3283.0</td>\n",
              "      <td>223.0</td>\n",
              "      <td>52</td>\n",
              "      <td>3</td>\n",
              "      <td>2441.928115</td>\n",
              "      <td>0</td>\n",
              "      <td>0</td>\n",
              "      <td>0</td>\n",
              "      <td>0</td>\n",
              "      <td>0</td>\n",
              "      <td>0</td>\n",
              "      <td>0</td>\n",
              "      <td>0</td>\n",
              "      <td>0</td>\n",
              "      <td>0</td>\n",
              "      <td>0</td>\n",
              "      <td>0</td>\n",
              "      <td>0</td>\n",
              "      <td>0</td>\n",
              "      <td>0</td>\n",
              "      <td>0</td>\n",
              "      <td>0</td>\n",
              "      <td>0</td>\n",
              "      <td>0</td>\n",
              "      <td>0</td>\n",
              "      <td>0</td>\n",
              "      <td>0</td>\n",
              "      <td>0</td>\n",
              "      <td>0</td>\n",
              "      <td>0</td>\n",
              "      <td>0</td>\n",
              "      <td>0</td>\n",
              "      <td>0</td>\n",
              "      <td>0</td>\n",
              "      <td>0</td>\n",
              "      <td>0</td>\n",
              "      <td>0</td>\n",
              "      <td>0</td>\n",
              "      <td>0</td>\n",
              "      <td>0</td>\n",
              "      <td>0</td>\n",
              "      <td>0</td>\n",
              "      <td>0</td>\n",
              "      <td>0</td>\n",
              "      <td>0</td>\n",
              "      <td>0</td>\n",
              "      <td>0</td>\n",
              "      <td>0</td>\n",
              "      <td>0</td>\n",
              "      <td>0</td>\n",
              "      <td>0</td>\n",
              "      <td>0</td>\n",
              "      <td>1</td>\n",
              "      <td>0</td>\n",
              "      <td>0</td>\n",
              "      <td>0</td>\n",
              "      <td>0</td>\n",
              "      <td>0</td>\n",
              "      <td>0</td>\n",
              "      <td>0</td>\n",
              "      <td>0</td>\n",
              "      <td>0</td>\n",
              "      <td>0</td>\n",
              "      <td>0</td>\n",
              "      <td>0</td>\n",
              "      <td>0</td>\n",
              "      <td>0</td>\n",
              "      <td>0</td>\n",
              "      <td>0</td>\n",
              "      <td>0</td>\n",
              "      <td>0</td>\n",
              "      <td>0</td>\n",
              "      <td>0</td>\n",
              "      <td>0</td>\n",
              "      <td>0</td>\n",
              "      <td>0</td>\n",
              "    </tr>\n",
              "    <tr>\n",
              "      <th>2</th>\n",
              "      <td>0</td>\n",
              "      <td>6</td>\n",
              "      <td>1856.0</td>\n",
              "      <td>26.0</td>\n",
              "      <td>101</td>\n",
              "      <td>15</td>\n",
              "      <td>24.515086</td>\n",
              "      <td>0</td>\n",
              "      <td>0</td>\n",
              "      <td>0</td>\n",
              "      <td>0</td>\n",
              "      <td>0</td>\n",
              "      <td>0</td>\n",
              "      <td>0</td>\n",
              "      <td>0</td>\n",
              "      <td>0</td>\n",
              "      <td>0</td>\n",
              "      <td>0</td>\n",
              "      <td>0</td>\n",
              "      <td>0</td>\n",
              "      <td>0</td>\n",
              "      <td>0</td>\n",
              "      <td>0</td>\n",
              "      <td>0</td>\n",
              "      <td>0</td>\n",
              "      <td>0</td>\n",
              "      <td>0</td>\n",
              "      <td>0</td>\n",
              "      <td>0</td>\n",
              "      <td>0</td>\n",
              "      <td>1</td>\n",
              "      <td>0</td>\n",
              "      <td>0</td>\n",
              "      <td>0</td>\n",
              "      <td>0</td>\n",
              "      <td>0</td>\n",
              "      <td>0</td>\n",
              "      <td>0</td>\n",
              "      <td>0</td>\n",
              "      <td>0</td>\n",
              "      <td>0</td>\n",
              "      <td>0</td>\n",
              "      <td>0</td>\n",
              "      <td>0</td>\n",
              "      <td>0</td>\n",
              "      <td>0</td>\n",
              "      <td>0</td>\n",
              "      <td>0</td>\n",
              "      <td>0</td>\n",
              "      <td>0</td>\n",
              "      <td>0</td>\n",
              "      <td>0</td>\n",
              "      <td>0</td>\n",
              "      <td>0</td>\n",
              "      <td>0</td>\n",
              "      <td>0</td>\n",
              "      <td>0</td>\n",
              "      <td>0</td>\n",
              "      <td>0</td>\n",
              "      <td>0</td>\n",
              "      <td>0</td>\n",
              "      <td>0</td>\n",
              "      <td>0</td>\n",
              "      <td>0</td>\n",
              "      <td>0</td>\n",
              "      <td>0</td>\n",
              "      <td>0</td>\n",
              "      <td>0</td>\n",
              "      <td>0</td>\n",
              "      <td>0</td>\n",
              "      <td>0</td>\n",
              "      <td>0</td>\n",
              "      <td>0</td>\n",
              "      <td>0</td>\n",
              "      <td>0</td>\n",
              "      <td>0</td>\n",
              "      <td>0</td>\n",
              "      <td>0</td>\n",
              "    </tr>\n",
              "    <tr>\n",
              "      <th>3</th>\n",
              "      <td>0</td>\n",
              "      <td>3</td>\n",
              "      <td>490.0</td>\n",
              "      <td>20.0</td>\n",
              "      <td>12</td>\n",
              "      <td>4</td>\n",
              "      <td>1081.632653</td>\n",
              "      <td>0</td>\n",
              "      <td>0</td>\n",
              "      <td>0</td>\n",
              "      <td>0</td>\n",
              "      <td>0</td>\n",
              "      <td>0</td>\n",
              "      <td>0</td>\n",
              "      <td>0</td>\n",
              "      <td>0</td>\n",
              "      <td>0</td>\n",
              "      <td>0</td>\n",
              "      <td>0</td>\n",
              "      <td>0</td>\n",
              "      <td>0</td>\n",
              "      <td>0</td>\n",
              "      <td>0</td>\n",
              "      <td>0</td>\n",
              "      <td>0</td>\n",
              "      <td>0</td>\n",
              "      <td>0</td>\n",
              "      <td>0</td>\n",
              "      <td>0</td>\n",
              "      <td>0</td>\n",
              "      <td>0</td>\n",
              "      <td>0</td>\n",
              "      <td>0</td>\n",
              "      <td>0</td>\n",
              "      <td>0</td>\n",
              "      <td>0</td>\n",
              "      <td>0</td>\n",
              "      <td>0</td>\n",
              "      <td>0</td>\n",
              "      <td>0</td>\n",
              "      <td>0</td>\n",
              "      <td>0</td>\n",
              "      <td>0</td>\n",
              "      <td>0</td>\n",
              "      <td>0</td>\n",
              "      <td>0</td>\n",
              "      <td>0</td>\n",
              "      <td>0</td>\n",
              "      <td>0</td>\n",
              "      <td>0</td>\n",
              "      <td>0</td>\n",
              "      <td>0</td>\n",
              "      <td>0</td>\n",
              "      <td>0</td>\n",
              "      <td>1</td>\n",
              "      <td>0</td>\n",
              "      <td>0</td>\n",
              "      <td>0</td>\n",
              "      <td>0</td>\n",
              "      <td>0</td>\n",
              "      <td>0</td>\n",
              "      <td>0</td>\n",
              "      <td>0</td>\n",
              "      <td>0</td>\n",
              "      <td>0</td>\n",
              "      <td>0</td>\n",
              "      <td>0</td>\n",
              "      <td>0</td>\n",
              "      <td>0</td>\n",
              "      <td>0</td>\n",
              "      <td>0</td>\n",
              "      <td>0</td>\n",
              "      <td>0</td>\n",
              "      <td>0</td>\n",
              "      <td>0</td>\n",
              "      <td>0</td>\n",
              "      <td>0</td>\n",
              "      <td>0</td>\n",
              "    </tr>\n",
              "    <tr>\n",
              "      <th>4</th>\n",
              "      <td>0</td>\n",
              "      <td>6</td>\n",
              "      <td>125.0</td>\n",
              "      <td>6.0</td>\n",
              "      <td>2</td>\n",
              "      <td>1</td>\n",
              "      <td>1194.720000</td>\n",
              "      <td>0</td>\n",
              "      <td>0</td>\n",
              "      <td>0</td>\n",
              "      <td>0</td>\n",
              "      <td>0</td>\n",
              "      <td>0</td>\n",
              "      <td>0</td>\n",
              "      <td>0</td>\n",
              "      <td>0</td>\n",
              "      <td>0</td>\n",
              "      <td>0</td>\n",
              "      <td>0</td>\n",
              "      <td>0</td>\n",
              "      <td>0</td>\n",
              "      <td>0</td>\n",
              "      <td>0</td>\n",
              "      <td>0</td>\n",
              "      <td>0</td>\n",
              "      <td>0</td>\n",
              "      <td>0</td>\n",
              "      <td>0</td>\n",
              "      <td>0</td>\n",
              "      <td>0</td>\n",
              "      <td>0</td>\n",
              "      <td>0</td>\n",
              "      <td>0</td>\n",
              "      <td>0</td>\n",
              "      <td>0</td>\n",
              "      <td>0</td>\n",
              "      <td>0</td>\n",
              "      <td>0</td>\n",
              "      <td>0</td>\n",
              "      <td>0</td>\n",
              "      <td>0</td>\n",
              "      <td>0</td>\n",
              "      <td>0</td>\n",
              "      <td>0</td>\n",
              "      <td>0</td>\n",
              "      <td>0</td>\n",
              "      <td>0</td>\n",
              "      <td>0</td>\n",
              "      <td>0</td>\n",
              "      <td>0</td>\n",
              "      <td>0</td>\n",
              "      <td>0</td>\n",
              "      <td>0</td>\n",
              "      <td>0</td>\n",
              "      <td>0</td>\n",
              "      <td>0</td>\n",
              "      <td>0</td>\n",
              "      <td>0</td>\n",
              "      <td>0</td>\n",
              "      <td>0</td>\n",
              "      <td>0</td>\n",
              "      <td>0</td>\n",
              "      <td>0</td>\n",
              "      <td>0</td>\n",
              "      <td>0</td>\n",
              "      <td>0</td>\n",
              "      <td>0</td>\n",
              "      <td>0</td>\n",
              "      <td>0</td>\n",
              "      <td>0</td>\n",
              "      <td>0</td>\n",
              "      <td>0</td>\n",
              "      <td>0</td>\n",
              "      <td>0</td>\n",
              "      <td>0</td>\n",
              "      <td>1</td>\n",
              "      <td>0</td>\n",
              "      <td>0</td>\n",
              "    </tr>\n",
              "  </tbody>\n",
              "</table>\n",
              "</div>"
            ],
            "text/plain": [
              "   product_tier  first_zip_digit  ...  make_name_Volvo  make_name_smart\n",
              "0             0                5  ...                0                0\n",
              "1             0                4  ...                0                0\n",
              "2             0                6  ...                0                0\n",
              "3             0                3  ...                0                0\n",
              "4             0                6  ...                0                0\n",
              "\n",
              "[5 rows x 78 columns]"
            ]
          },
          "metadata": {
            "tags": []
          },
          "execution_count": 18
        }
      ]
    },
    {
      "cell_type": "markdown",
      "metadata": {
        "id": "kr94qRbcQPYR"
      },
      "source": [
        "# 4. Dividing the data into training and validation sets\n",
        "\n",
        "  1. The training set is used to train the model. The training set is validated using 5-fold cross-validation\n",
        "  \n",
        "  2. The validation set is not used in the modelling. It is used to independently test the model performance after training"
      ],
      "id": "kr94qRbcQPYR"
    },
    {
      "cell_type": "code",
      "metadata": {
        "id": "3JR7p1L2QFh7"
      },
      "source": [
        "X = data4.drop(columns=['product_tier'])\n",
        "y = data4[['product_tier']]"
      ],
      "id": "3JR7p1L2QFh7",
      "execution_count": null,
      "outputs": []
    },
    {
      "cell_type": "code",
      "metadata": {
        "id": "2CfUVjCDQdAu"
      },
      "source": [
        "X_train_cls, X_test_cls, y_train_cls, y_test_cls = train_test_split(X, y, \n",
        "                                                                    test_size=0.2, \n",
        "                                                                    random_state=42)"
      ],
      "id": "2CfUVjCDQdAu",
      "execution_count": null,
      "outputs": []
    },
    {
      "cell_type": "markdown",
      "metadata": {
        "id": "dFb87mIlQpx0"
      },
      "source": [
        "# 5. Normalization of the data\n",
        "\n",
        "Three types of normalizations are used-\n",
        "\n",
        "1. RobustScaler: Used for scaling the columns affected by outliers\n",
        "2. MinMaxScaler: Used to scale columns which do not have a continuous distribution\n",
        "\n",
        "In order to avoid data leakage, the scalers are-\n",
        "\n",
        "  1. Fitted to the train data\n",
        "  2. The obtained statistics are applied to the test data"
      ],
      "id": "dFb87mIlQpx0"
    },
    {
      "cell_type": "code",
      "metadata": {
        "id": "LQXkTeikQhYA"
      },
      "source": [
        "# A column transformer object is used to apply different scaling logic\n",
        "# to the different columns\n",
        "def feature_transformer(minmax_cols, rob_cols):\n",
        "    \"\"\"\n",
        "    Returns a transformer object\n",
        "    \"\"\"\n",
        "    minmax_scaler = MinMaxScaler()\n",
        "    rob_scaler = RobustScaler()\n",
        "    \n",
        "    ct = ColumnTransformer([('minmax', \n",
        "                         minmax_scaler, \n",
        "                         minmax_cols\n",
        "                        ), \n",
        "                        ('rob', \n",
        "                         rob_scaler, \n",
        "                         rob_cols\n",
        "                        )], \n",
        "                       remainder='passthrough')\n",
        "    return ct"
      ],
      "id": "LQXkTeikQhYA",
      "execution_count": null,
      "outputs": []
    },
    {
      "cell_type": "code",
      "metadata": {
        "id": "RDw70l4kQ8lw"
      },
      "source": [
        "minmax_cols = ['first_zip_digit', 'yrs_since_first_reg']\n",
        "rob_cols = ['search_views', 'detail_views', 'stock_days', 'price_per_click']"
      ],
      "id": "RDw70l4kQ8lw",
      "execution_count": null,
      "outputs": []
    },
    {
      "cell_type": "code",
      "metadata": {
        "id": "vetwasoeQ_vs"
      },
      "source": [
        "preprocessor = feature_transformer(minmax_cols=minmax_cols,\n",
        "                                   rob_cols=rob_cols,\n",
        "                                   )"
      ],
      "id": "vetwasoeQ_vs",
      "execution_count": null,
      "outputs": []
    },
    {
      "cell_type": "markdown",
      "metadata": {
        "id": "5VwjWgNORUyt"
      },
      "source": [
        "# 6. Training the models\n",
        "\n",
        "**Dealing with highly imbalanced classes**: As noted above the dataset contains highly imbalanced classes. To fight the bias against high class imbalance the following strategies are applied -\n",
        "\n",
        "1. Changing the algorithms using the \"class_weight=balanced\" parameter to create a balanced class while training.\n",
        "2. Over-sampling the minority class using SMOTE from Imblearn\n",
        "3. Randomly Undersampling the majority class using the RandomUndersampling from Imblearn\n",
        "4. Trying out Balanced Bagging Classifier with a gradient boosting base learner\n",
        "\n",
        "  \n",
        "\n",
        "**Baseline model**: DummyClassifier\n",
        "\n",
        "**Metric**: Average Recall for all classes is used as the evaulation metric for both K-fold cross-validation and also for model evaluation on the test data"
      ],
      "id": "5VwjWgNORUyt"
    },
    {
      "cell_type": "markdown",
      "metadata": {
        "id": "QCaQPartRmzK"
      },
      "source": [
        "### 6.1 Dummy Classifier"
      ],
      "id": "QCaQPartRmzK"
    },
    {
      "cell_type": "code",
      "metadata": {
        "id": "uK82T689RCsx"
      },
      "source": [
        "index = []\n",
        "scores = {\"Averaged Recall\": []}"
      ],
      "id": "uK82T689RCsx",
      "execution_count": null,
      "outputs": []
    },
    {
      "cell_type": "code",
      "metadata": {
        "colab": {
          "base_uri": "https://localhost:8080/",
          "height": 80
        },
        "id": "4_IJsFGDR0h_",
        "outputId": "b7b2a155-f605-4bdb-f64c-6d09bd5179b3"
      },
      "source": [
        "dummy_clf = DummyClassifier(strategy=\"most_frequent\")\n",
        "\n",
        "scoring = [\"balanced_accuracy\"]\n",
        "\n",
        "index += [\"Dummy classifier\"]\n",
        "cv_result = cross_validate(dummy_clf, X_train_cls, y_train_cls, scoring=scoring)\n",
        "\n",
        "scores[\"Averaged Recall\"].append(cv_result[\"test_balanced_accuracy\"].mean())\n",
        "\n",
        "df_scores = pd.DataFrame(scores, index=index)\n",
        "df_scores.head()"
      ],
      "id": "4_IJsFGDR0h_",
      "execution_count": null,
      "outputs": [
        {
          "output_type": "execute_result",
          "data": {
            "text/html": [
              "<div>\n",
              "<style scoped>\n",
              "    .dataframe tbody tr th:only-of-type {\n",
              "        vertical-align: middle;\n",
              "    }\n",
              "\n",
              "    .dataframe tbody tr th {\n",
              "        vertical-align: top;\n",
              "    }\n",
              "\n",
              "    .dataframe thead th {\n",
              "        text-align: right;\n",
              "    }\n",
              "</style>\n",
              "<table border=\"1\" class=\"dataframe\">\n",
              "  <thead>\n",
              "    <tr style=\"text-align: right;\">\n",
              "      <th></th>\n",
              "      <th>Averaged Recall</th>\n",
              "    </tr>\n",
              "  </thead>\n",
              "  <tbody>\n",
              "    <tr>\n",
              "      <th>Dummy classifier</th>\n",
              "      <td>0.333333</td>\n",
              "    </tr>\n",
              "  </tbody>\n",
              "</table>\n",
              "</div>"
            ],
            "text/plain": [
              "                  Averaged Recall\n",
              "Dummy classifier         0.333333"
            ]
          },
          "metadata": {
            "tags": []
          },
          "execution_count": 25
        }
      ]
    },
    {
      "cell_type": "markdown",
      "metadata": {
        "id": "rVHdy5xiSYtU"
      },
      "source": [
        "### 6.2 Logistic Regression"
      ],
      "id": "rVHdy5xiSYtU"
    },
    {
      "cell_type": "code",
      "metadata": {
        "colab": {
          "base_uri": "https://localhost:8080/",
          "height": 624
        },
        "id": "XMHgS7kISQcd",
        "outputId": "41559591-ca4b-4c62-b2a5-15ce74f92b51"
      },
      "source": [
        "# Define  estimator\n",
        "logreg = LogisticRegression(random_state=42, multi_class='ovr', solver='lbfgs')\n",
        "\n",
        "# Define pipeline\n",
        "steps_logreg = [('scaler', preprocessor), ('logreg', logreg)]\n",
        "\n",
        "pipe_logreg = Pipeline(steps_logreg)\n",
        "\n",
        "# Implement Grid Search\n",
        "params_logreg = {'logreg__C' : [1e-5, 1e-4, 0.001, 0.01, 0.1, 1.0, 10.]\n",
        "              }\n",
        "\n",
        "rs_logreg = RandomizedSearchCV(pipe_logreg, \n",
        "                                param_distributions=params_logreg, \n",
        "                                n_iter=6, \n",
        "                                scoring='balanced_accuracy', \n",
        "                                n_jobs=-1, \n",
        "                                cv=5, \n",
        "                                random_state=42, \n",
        "                                verbose=2)\n",
        "\n",
        "# Run grid search and cross-validation\n",
        "rs_logreg.fit(X_train_cls, y_train_cls)\n",
        "\n",
        "# Fill the score DF\n",
        "index += [\"LogisticRegression\"]\n",
        "\n",
        "scores['Averaged Recall'].append(rs_logreg.best_score_)\n",
        "\n",
        "df_scores = pd.DataFrame(scores, index=index)\n",
        "df_scores.head()"
      ],
      "id": "XMHgS7kISQcd",
      "execution_count": null,
      "outputs": [
        {
          "output_type": "stream",
          "text": [
            "Fitting 5 folds for each of 6 candidates, totalling 30 fits\n"
          ],
          "name": "stdout"
        },
        {
          "output_type": "stream",
          "text": [
            "[Parallel(n_jobs=-1)]: Using backend LokyBackend with 2 concurrent workers.\n",
            "[Parallel(n_jobs=-1)]: Done  30 out of  30 | elapsed:   45.3s finished\n",
            "/usr/local/lib/python3.7/dist-packages/sklearn/utils/validation.py:760: DataConversionWarning: A column-vector y was passed when a 1d array was expected. Please change the shape of y to (n_samples, ), for example using ravel().\n",
            "  y = column_or_1d(y, warn=True)\n",
            "/usr/local/lib/python3.7/dist-packages/sklearn/linear_model/_logistic.py:940: ConvergenceWarning: lbfgs failed to converge (status=1):\n",
            "STOP: TOTAL NO. of ITERATIONS REACHED LIMIT.\n",
            "\n",
            "Increase the number of iterations (max_iter) or scale the data as shown in:\n",
            "    https://scikit-learn.org/stable/modules/preprocessing.html\n",
            "Please also refer to the documentation for alternative solver options:\n",
            "    https://scikit-learn.org/stable/modules/linear_model.html#logistic-regression\n",
            "  extra_warning_msg=_LOGISTIC_SOLVER_CONVERGENCE_MSG)\n",
            "/usr/local/lib/python3.7/dist-packages/sklearn/linear_model/_logistic.py:940: ConvergenceWarning: lbfgs failed to converge (status=1):\n",
            "STOP: TOTAL NO. of ITERATIONS REACHED LIMIT.\n",
            "\n",
            "Increase the number of iterations (max_iter) or scale the data as shown in:\n",
            "    https://scikit-learn.org/stable/modules/preprocessing.html\n",
            "Please also refer to the documentation for alternative solver options:\n",
            "    https://scikit-learn.org/stable/modules/linear_model.html#logistic-regression\n",
            "  extra_warning_msg=_LOGISTIC_SOLVER_CONVERGENCE_MSG)\n",
            "/usr/local/lib/python3.7/dist-packages/sklearn/linear_model/_logistic.py:940: ConvergenceWarning: lbfgs failed to converge (status=1):\n",
            "STOP: TOTAL NO. of ITERATIONS REACHED LIMIT.\n",
            "\n",
            "Increase the number of iterations (max_iter) or scale the data as shown in:\n",
            "    https://scikit-learn.org/stable/modules/preprocessing.html\n",
            "Please also refer to the documentation for alternative solver options:\n",
            "    https://scikit-learn.org/stable/modules/linear_model.html#logistic-regression\n",
            "  extra_warning_msg=_LOGISTIC_SOLVER_CONVERGENCE_MSG)\n"
          ],
          "name": "stderr"
        },
        {
          "output_type": "execute_result",
          "data": {
            "text/html": [
              "<div>\n",
              "<style scoped>\n",
              "    .dataframe tbody tr th:only-of-type {\n",
              "        vertical-align: middle;\n",
              "    }\n",
              "\n",
              "    .dataframe tbody tr th {\n",
              "        vertical-align: top;\n",
              "    }\n",
              "\n",
              "    .dataframe thead th {\n",
              "        text-align: right;\n",
              "    }\n",
              "</style>\n",
              "<table border=\"1\" class=\"dataframe\">\n",
              "  <thead>\n",
              "    <tr style=\"text-align: right;\">\n",
              "      <th></th>\n",
              "      <th>Averaged Recall</th>\n",
              "    </tr>\n",
              "  </thead>\n",
              "  <tbody>\n",
              "    <tr>\n",
              "      <th>Dummy classifier</th>\n",
              "      <td>0.333333</td>\n",
              "    </tr>\n",
              "    <tr>\n",
              "      <th>LogisticRegression</th>\n",
              "      <td>0.408502</td>\n",
              "    </tr>\n",
              "  </tbody>\n",
              "</table>\n",
              "</div>"
            ],
            "text/plain": [
              "                    Averaged Recall\n",
              "Dummy classifier           0.333333\n",
              "LogisticRegression         0.408502"
            ]
          },
          "metadata": {
            "tags": []
          },
          "execution_count": 26
        }
      ]
    },
    {
      "cell_type": "markdown",
      "metadata": {
        "id": "jFBWuMmUSqg_"
      },
      "source": [
        "### 6.3 Random Forest"
      ],
      "id": "jFBWuMmUSqg_"
    },
    {
      "cell_type": "code",
      "metadata": {
        "colab": {
          "base_uri": "https://localhost:8080/",
          "height": 264
        },
        "id": "g7Y-pdLwSimZ",
        "outputId": "689b6785-bb07-4646-a263-751d73209217"
      },
      "source": [
        "# Define  estimator\n",
        "rf_reg = RandomForestClassifier(random_state=42)\n",
        "\n",
        "# Define Pipeline\n",
        "steps_rf_reg = [('scaler', preprocessor), ('rf_reg', rf_reg)]\n",
        "\n",
        "pipe_rf_reg = Pipeline(steps_rf_reg)\n",
        "\n",
        "# Implement Grid Search\n",
        "params_rf_reg = {'rf_reg__n_estimators' : [50, 100, 150, 200,], \n",
        "                  'rf_reg__max_depth': np.arange(2, 6),  \n",
        "                  'rf_reg__min_samples_leaf': np.arange(3, 7),\n",
        "                  'rf_reg__max_samples': [0.5, 0.6, 0.7, 0.8]\n",
        "                  }\n",
        "\n",
        "rs_rf_reg = RandomizedSearchCV(pipe_rf_reg, \n",
        "                                param_distributions=params_rf_reg, \n",
        "                                n_iter=12, \n",
        "                                scoring='balanced_accuracy', \n",
        "                                n_jobs=-1, \n",
        "                                cv=5, \n",
        "                                random_state=42, \n",
        "                                verbose=2)\n",
        "\n",
        "# Run grid search and cross-validation\n",
        "rs_rf_reg.fit(X_train_cls, y_train_cls)\n",
        "\n",
        "# Fill the score DF\n",
        "index += [\"RandomForest\"]\n",
        "\n",
        "scores['Averaged Recall'].append(rs_rf_reg.best_score_)\n",
        "\n",
        "df_scores = pd.DataFrame(scores, index=index)\n",
        "df_scores.head(30)"
      ],
      "id": "g7Y-pdLwSimZ",
      "execution_count": null,
      "outputs": [
        {
          "output_type": "stream",
          "text": [
            "[Parallel(n_jobs=-1)]: Using backend LokyBackend with 2 concurrent workers.\n"
          ],
          "name": "stderr"
        },
        {
          "output_type": "stream",
          "text": [
            "Fitting 5 folds for each of 12 candidates, totalling 60 fits\n"
          ],
          "name": "stdout"
        },
        {
          "output_type": "stream",
          "text": [
            "[Parallel(n_jobs=-1)]: Done  37 tasks      | elapsed:  1.1min\n",
            "[Parallel(n_jobs=-1)]: Done  60 out of  60 | elapsed:  1.7min finished\n",
            "/usr/local/lib/python3.7/dist-packages/sklearn/pipeline.py:354: DataConversionWarning: A column-vector y was passed when a 1d array was expected. Please change the shape of y to (n_samples,), for example using ravel().\n",
            "  self._final_estimator.fit(Xt, y, **fit_params)\n"
          ],
          "name": "stderr"
        },
        {
          "output_type": "execute_result",
          "data": {
            "text/html": [
              "<div>\n",
              "<style scoped>\n",
              "    .dataframe tbody tr th:only-of-type {\n",
              "        vertical-align: middle;\n",
              "    }\n",
              "\n",
              "    .dataframe tbody tr th {\n",
              "        vertical-align: top;\n",
              "    }\n",
              "\n",
              "    .dataframe thead th {\n",
              "        text-align: right;\n",
              "    }\n",
              "</style>\n",
              "<table border=\"1\" class=\"dataframe\">\n",
              "  <thead>\n",
              "    <tr style=\"text-align: right;\">\n",
              "      <th></th>\n",
              "      <th>Averaged Recall</th>\n",
              "    </tr>\n",
              "  </thead>\n",
              "  <tbody>\n",
              "    <tr>\n",
              "      <th>Dummy classifier</th>\n",
              "      <td>0.333333</td>\n",
              "    </tr>\n",
              "    <tr>\n",
              "      <th>LogisticRegression</th>\n",
              "      <td>0.408502</td>\n",
              "    </tr>\n",
              "    <tr>\n",
              "      <th>RandomForest</th>\n",
              "      <td>0.333333</td>\n",
              "    </tr>\n",
              "  </tbody>\n",
              "</table>\n",
              "</div>"
            ],
            "text/plain": [
              "                    Averaged Recall\n",
              "Dummy classifier           0.333333\n",
              "LogisticRegression         0.408502\n",
              "RandomForest               0.333333"
            ]
          },
          "metadata": {
            "tags": []
          },
          "execution_count": 27
        }
      ]
    },
    {
      "cell_type": "markdown",
      "metadata": {
        "id": "ymkpKYDuS71-"
      },
      "source": [
        "### 6.4 Logistic Regression with balanced class weights\n",
        "\n",
        "class_weight=\"balanced\" is set so that the algorithm can adjust the classes by upsampling the minorities to obtain a balanced training data."
      ],
      "id": "ymkpKYDuS71-"
    },
    {
      "cell_type": "code",
      "metadata": {
        "colab": {
          "base_uri": "https://localhost:8080/",
          "height": 686
        },
        "id": "uvJrbqWnS7ge",
        "outputId": "91013a88-bf7d-4909-c8d6-653ec8423d14"
      },
      "source": [
        "# Define  estimator\n",
        "logreg_bal = LogisticRegression(random_state=42, multi_class='ovr', solver='lbfgs', class_weight='balanced')\n",
        "\n",
        "# Define pipeline\n",
        "steps_logreg_bal = [('scaler', preprocessor), ('logreg_bal', logreg_bal)]\n",
        "\n",
        "pipe_logreg_bal = Pipeline(steps_logreg_bal)\n",
        "\n",
        "# Implement Grid Search\n",
        "params_logreg_bal = {'logreg_bal__C' : [1e-5, 1e-4, 0.001, 0.01, 0.1, 1.0, 10.]\n",
        "                     }\n",
        "\n",
        "rs_logreg_bal = RandomizedSearchCV(pipe_logreg_bal, \n",
        "                                    param_distributions=params_logreg_bal, \n",
        "                                    n_iter=6, \n",
        "                                    scoring='balanced_accuracy', \n",
        "                                    n_jobs=-1, \n",
        "                                    cv=5, \n",
        "                                    random_state=42, \n",
        "                                    verbose=2)\n",
        "\n",
        "# Run grid search and cross-validation\n",
        "rs_logreg_bal.fit(X_train_cls, y_train_cls)\n",
        "\n",
        "# Fill the score DF\n",
        "index += [\"LogisticRegression with balanced class weights\"]\n",
        "\n",
        "scores['Averaged Recall'].append(rs_logreg_bal.best_score_)\n",
        "\n",
        "df_scores = pd.DataFrame(scores, index=index)\n",
        "df_scores.head()"
      ],
      "id": "uvJrbqWnS7ge",
      "execution_count": null,
      "outputs": [
        {
          "output_type": "stream",
          "text": [
            "Fitting 5 folds for each of 6 candidates, totalling 30 fits\n"
          ],
          "name": "stdout"
        },
        {
          "output_type": "stream",
          "text": [
            "[Parallel(n_jobs=-1)]: Using backend LokyBackend with 2 concurrent workers.\n",
            "[Parallel(n_jobs=-1)]: Done  30 out of  30 | elapsed:  1.0min finished\n",
            "/usr/local/lib/python3.7/dist-packages/sklearn/utils/validation.py:760: DataConversionWarning: A column-vector y was passed when a 1d array was expected. Please change the shape of y to (n_samples, ), for example using ravel().\n",
            "  y = column_or_1d(y, warn=True)\n",
            "/usr/local/lib/python3.7/dist-packages/sklearn/linear_model/_logistic.py:940: ConvergenceWarning: lbfgs failed to converge (status=1):\n",
            "STOP: TOTAL NO. of ITERATIONS REACHED LIMIT.\n",
            "\n",
            "Increase the number of iterations (max_iter) or scale the data as shown in:\n",
            "    https://scikit-learn.org/stable/modules/preprocessing.html\n",
            "Please also refer to the documentation for alternative solver options:\n",
            "    https://scikit-learn.org/stable/modules/linear_model.html#logistic-regression\n",
            "  extra_warning_msg=_LOGISTIC_SOLVER_CONVERGENCE_MSG)\n",
            "/usr/local/lib/python3.7/dist-packages/sklearn/linear_model/_logistic.py:940: ConvergenceWarning: lbfgs failed to converge (status=1):\n",
            "STOP: TOTAL NO. of ITERATIONS REACHED LIMIT.\n",
            "\n",
            "Increase the number of iterations (max_iter) or scale the data as shown in:\n",
            "    https://scikit-learn.org/stable/modules/preprocessing.html\n",
            "Please also refer to the documentation for alternative solver options:\n",
            "    https://scikit-learn.org/stable/modules/linear_model.html#logistic-regression\n",
            "  extra_warning_msg=_LOGISTIC_SOLVER_CONVERGENCE_MSG)\n",
            "/usr/local/lib/python3.7/dist-packages/sklearn/linear_model/_logistic.py:940: ConvergenceWarning: lbfgs failed to converge (status=1):\n",
            "STOP: TOTAL NO. of ITERATIONS REACHED LIMIT.\n",
            "\n",
            "Increase the number of iterations (max_iter) or scale the data as shown in:\n",
            "    https://scikit-learn.org/stable/modules/preprocessing.html\n",
            "Please also refer to the documentation for alternative solver options:\n",
            "    https://scikit-learn.org/stable/modules/linear_model.html#logistic-regression\n",
            "  extra_warning_msg=_LOGISTIC_SOLVER_CONVERGENCE_MSG)\n"
          ],
          "name": "stderr"
        },
        {
          "output_type": "execute_result",
          "data": {
            "text/html": [
              "<div>\n",
              "<style scoped>\n",
              "    .dataframe tbody tr th:only-of-type {\n",
              "        vertical-align: middle;\n",
              "    }\n",
              "\n",
              "    .dataframe tbody tr th {\n",
              "        vertical-align: top;\n",
              "    }\n",
              "\n",
              "    .dataframe thead th {\n",
              "        text-align: right;\n",
              "    }\n",
              "</style>\n",
              "<table border=\"1\" class=\"dataframe\">\n",
              "  <thead>\n",
              "    <tr style=\"text-align: right;\">\n",
              "      <th></th>\n",
              "      <th>Averaged Recall</th>\n",
              "    </tr>\n",
              "  </thead>\n",
              "  <tbody>\n",
              "    <tr>\n",
              "      <th>Dummy classifier</th>\n",
              "      <td>0.333333</td>\n",
              "    </tr>\n",
              "    <tr>\n",
              "      <th>LogisticRegression</th>\n",
              "      <td>0.408502</td>\n",
              "    </tr>\n",
              "    <tr>\n",
              "      <th>RandomForest</th>\n",
              "      <td>0.333333</td>\n",
              "    </tr>\n",
              "    <tr>\n",
              "      <th>LogisticRegression with balanced class weights</th>\n",
              "      <td>0.623564</td>\n",
              "    </tr>\n",
              "  </tbody>\n",
              "</table>\n",
              "</div>"
            ],
            "text/plain": [
              "                                                Averaged Recall\n",
              "Dummy classifier                                       0.333333\n",
              "LogisticRegression                                     0.408502\n",
              "RandomForest                                           0.333333\n",
              "LogisticRegression with balanced class weights         0.623564"
            ]
          },
          "metadata": {
            "tags": []
          },
          "execution_count": 28
        }
      ]
    },
    {
      "cell_type": "markdown",
      "metadata": {
        "id": "mg-XlBcQTWCl"
      },
      "source": [
        "### 6.5 Random Forest with balanced class weights\n",
        "class_weight=\"balanced\" is set so that the algorithm can adjust the classes by upsampling the minorities to obtain a balanced training data."
      ],
      "id": "mg-XlBcQTWCl"
    },
    {
      "cell_type": "code",
      "metadata": {
        "colab": {
          "base_uri": "https://localhost:8080/",
          "height": 326
        },
        "id": "E8m3CCyoTVu3",
        "outputId": "d7c89957-ee85-46ed-c59a-d243a34474fd"
      },
      "source": [
        "# Define  estimator\n",
        "rf_reg_bal = RandomForestClassifier(random_state=42, class_weight='balanced')\n",
        "\n",
        "# Define Pipeline\n",
        "steps_rf_reg_bal = [('scaler', preprocessor), ('rf_reg_bal', rf_reg_bal)]\n",
        "\n",
        "pipe_rf_reg_bal = Pipeline(steps_rf_reg_bal)\n",
        "\n",
        "# Implement Grid Search\n",
        "params_rf_reg_bal = {'rf_reg_bal__n_estimators' : [50, 100, 150, 200,], \n",
        "                      'rf_reg_bal__max_depth': np.arange(2, 6),  \n",
        "                      'rf_reg_bal__min_samples_leaf': np.arange(3, 7),\n",
        "                      'rf_reg_bal__max_samples': [0.5, 0.6, 0.7, 0.8]\n",
        "                      }\n",
        "\n",
        "rs_rf_reg_bal = RandomizedSearchCV(pipe_rf_reg_bal, \n",
        "                                    param_distributions=params_rf_reg_bal, \n",
        "                                    n_iter=12, \n",
        "                                    scoring='balanced_accuracy', \n",
        "                                    n_jobs=-1, \n",
        "                                    cv=5, \n",
        "                                    random_state=42, \n",
        "                                    verbose=2)\n",
        "\n",
        "# Run grid search and cross-validation\n",
        "rs_rf_reg_bal.fit(X_train_cls, y_train_cls)\n",
        "\n",
        "# Fill the score DF\n",
        "index += [\"RandomForest with balanced class weights\"]\n",
        "\n",
        "scores['Averaged Recall'].append(rs_rf_reg_bal.best_score_)\n",
        "\n",
        "df_scores = pd.DataFrame(scores, index=index)\n",
        "df_scores.head(30)"
      ],
      "id": "E8m3CCyoTVu3",
      "execution_count": null,
      "outputs": [
        {
          "output_type": "stream",
          "text": [
            "[Parallel(n_jobs=-1)]: Using backend LokyBackend with 2 concurrent workers.\n"
          ],
          "name": "stderr"
        },
        {
          "output_type": "stream",
          "text": [
            "Fitting 5 folds for each of 12 candidates, totalling 60 fits\n"
          ],
          "name": "stdout"
        },
        {
          "output_type": "stream",
          "text": [
            "[Parallel(n_jobs=-1)]: Done  37 tasks      | elapsed:  1.2min\n",
            "[Parallel(n_jobs=-1)]: Done  60 out of  60 | elapsed:  1.8min finished\n",
            "/usr/local/lib/python3.7/dist-packages/sklearn/pipeline.py:354: DataConversionWarning: A column-vector y was passed when a 1d array was expected. Please change the shape of y to (n_samples,), for example using ravel().\n",
            "  self._final_estimator.fit(Xt, y, **fit_params)\n"
          ],
          "name": "stderr"
        },
        {
          "output_type": "execute_result",
          "data": {
            "text/html": [
              "<div>\n",
              "<style scoped>\n",
              "    .dataframe tbody tr th:only-of-type {\n",
              "        vertical-align: middle;\n",
              "    }\n",
              "\n",
              "    .dataframe tbody tr th {\n",
              "        vertical-align: top;\n",
              "    }\n",
              "\n",
              "    .dataframe thead th {\n",
              "        text-align: right;\n",
              "    }\n",
              "</style>\n",
              "<table border=\"1\" class=\"dataframe\">\n",
              "  <thead>\n",
              "    <tr style=\"text-align: right;\">\n",
              "      <th></th>\n",
              "      <th>Averaged Recall</th>\n",
              "    </tr>\n",
              "  </thead>\n",
              "  <tbody>\n",
              "    <tr>\n",
              "      <th>Dummy classifier</th>\n",
              "      <td>0.333333</td>\n",
              "    </tr>\n",
              "    <tr>\n",
              "      <th>LogisticRegression</th>\n",
              "      <td>0.408502</td>\n",
              "    </tr>\n",
              "    <tr>\n",
              "      <th>RandomForest</th>\n",
              "      <td>0.333333</td>\n",
              "    </tr>\n",
              "    <tr>\n",
              "      <th>LogisticRegression with balanced class weights</th>\n",
              "      <td>0.623564</td>\n",
              "    </tr>\n",
              "    <tr>\n",
              "      <th>RandomForest with balanced class weights</th>\n",
              "      <td>0.599854</td>\n",
              "    </tr>\n",
              "  </tbody>\n",
              "</table>\n",
              "</div>"
            ],
            "text/plain": [
              "                                                Averaged Recall\n",
              "Dummy classifier                                       0.333333\n",
              "LogisticRegression                                     0.408502\n",
              "RandomForest                                           0.333333\n",
              "LogisticRegression with balanced class weights         0.623564\n",
              "RandomForest with balanced class weights               0.599854"
            ]
          },
          "metadata": {
            "tags": []
          },
          "execution_count": 29
        }
      ]
    },
    {
      "cell_type": "markdown",
      "metadata": {
        "id": "3GsFvInpVpth"
      },
      "source": [
        "### 6.6 Oversampling + Logistic Regression\n",
        "\n",
        "SMOTE: Used for oversampling the minority classes"
      ],
      "id": "3GsFvInpVpth"
    },
    {
      "cell_type": "code",
      "metadata": {
        "colab": {
          "base_uri": "https://localhost:8080/",
          "height": 544
        },
        "id": "5J1BGrImUkCJ",
        "outputId": "ff71579b-ed9b-44e4-a0d4-f692ff2db864"
      },
      "source": [
        "# Define  estimator\n",
        "logreg_rus = LogisticRegression(random_state=42, multi_class='ovr', solver='lbfgs')\n",
        "\n",
        "# Define pipeline\n",
        "steps_logreg_rus = [('scaler', preprocessor), ('over', SMOTE(random_state=42)), ('logreg_rus', logreg_rus)]\n",
        "\n",
        "pipe_logreg_rus = Pipeline_with_sampler(steps_logreg_rus)\n",
        "\n",
        "# Implement Grid Search\n",
        "params_logreg_rus = {'logreg_rus__C' : [1e-5, 1e-4, 0.001, 0.01, 0.1, 1.0, 10.]\n",
        "                     }\n",
        "\n",
        "rs_logreg_rus = RandomizedSearchCV(pipe_logreg_rus, \n",
        "                                    param_distributions=params_logreg_rus, \n",
        "                                    n_iter=6, \n",
        "                                    scoring='balanced_accuracy', \n",
        "                                    n_jobs=-1, \n",
        "                                    cv=5, \n",
        "                                    random_state=42, \n",
        "                                    verbose=2)\n",
        "\n",
        "# Run grid search and cross-validation\n",
        "rs_logreg_rus.fit(X_train_cls, y_train_cls)\n",
        "\n",
        "# Fill the score DF\n",
        "index += [\"LogisticRegression+Oversampling\"]\n",
        "\n",
        "scores['Averaged Recall'].append(rs_logreg_rus.best_score_)\n",
        "\n",
        "df_scores = pd.DataFrame(scores, index=index)\n",
        "df_scores.head(50)"
      ],
      "id": "5J1BGrImUkCJ",
      "execution_count": null,
      "outputs": [
        {
          "output_type": "stream",
          "text": [
            "Fitting 5 folds for each of 6 candidates, totalling 30 fits\n"
          ],
          "name": "stdout"
        },
        {
          "output_type": "stream",
          "text": [
            "[Parallel(n_jobs=-1)]: Using backend LokyBackend with 2 concurrent workers.\n",
            "[Parallel(n_jobs=-1)]: Done  30 out of  30 | elapsed:  3.6min finished\n",
            "/usr/local/lib/python3.7/dist-packages/sklearn/utils/validation.py:760: DataConversionWarning: A column-vector y was passed when a 1d array was expected. Please change the shape of y to (n_samples, ), for example using ravel().\n",
            "  y = column_or_1d(y, warn=True)\n",
            "/usr/local/lib/python3.7/dist-packages/sklearn/utils/deprecation.py:87: FutureWarning: Function safe_indexing is deprecated; safe_indexing is deprecated in version 0.22 and will be removed in version 0.24.\n",
            "  warnings.warn(msg, category=FutureWarning)\n",
            "/usr/local/lib/python3.7/dist-packages/sklearn/utils/deprecation.py:87: FutureWarning: Function safe_indexing is deprecated; safe_indexing is deprecated in version 0.22 and will be removed in version 0.24.\n",
            "  warnings.warn(msg, category=FutureWarning)\n",
            "/usr/local/lib/python3.7/dist-packages/sklearn/linear_model/_logistic.py:940: ConvergenceWarning: lbfgs failed to converge (status=1):\n",
            "STOP: TOTAL NO. of ITERATIONS REACHED LIMIT.\n",
            "\n",
            "Increase the number of iterations (max_iter) or scale the data as shown in:\n",
            "    https://scikit-learn.org/stable/modules/preprocessing.html\n",
            "Please also refer to the documentation for alternative solver options:\n",
            "    https://scikit-learn.org/stable/modules/linear_model.html#logistic-regression\n",
            "  extra_warning_msg=_LOGISTIC_SOLVER_CONVERGENCE_MSG)\n"
          ],
          "name": "stderr"
        },
        {
          "output_type": "execute_result",
          "data": {
            "text/html": [
              "<div>\n",
              "<style scoped>\n",
              "    .dataframe tbody tr th:only-of-type {\n",
              "        vertical-align: middle;\n",
              "    }\n",
              "\n",
              "    .dataframe tbody tr th {\n",
              "        vertical-align: top;\n",
              "    }\n",
              "\n",
              "    .dataframe thead th {\n",
              "        text-align: right;\n",
              "    }\n",
              "</style>\n",
              "<table border=\"1\" class=\"dataframe\">\n",
              "  <thead>\n",
              "    <tr style=\"text-align: right;\">\n",
              "      <th></th>\n",
              "      <th>Averaged Recall</th>\n",
              "    </tr>\n",
              "  </thead>\n",
              "  <tbody>\n",
              "    <tr>\n",
              "      <th>Dummy classifier</th>\n",
              "      <td>0.333333</td>\n",
              "    </tr>\n",
              "    <tr>\n",
              "      <th>LogisticRegression</th>\n",
              "      <td>0.408502</td>\n",
              "    </tr>\n",
              "    <tr>\n",
              "      <th>RandomForest</th>\n",
              "      <td>0.333333</td>\n",
              "    </tr>\n",
              "    <tr>\n",
              "      <th>LogisticRegression with balanced class weights</th>\n",
              "      <td>0.623564</td>\n",
              "    </tr>\n",
              "    <tr>\n",
              "      <th>RandomForest with balanced class weights</th>\n",
              "      <td>0.599854</td>\n",
              "    </tr>\n",
              "    <tr>\n",
              "      <th>LogisticRegression+Oversampling</th>\n",
              "      <td>0.630164</td>\n",
              "    </tr>\n",
              "  </tbody>\n",
              "</table>\n",
              "</div>"
            ],
            "text/plain": [
              "                                                Averaged Recall\n",
              "Dummy classifier                                       0.333333\n",
              "LogisticRegression                                     0.408502\n",
              "RandomForest                                           0.333333\n",
              "LogisticRegression with balanced class weights         0.623564\n",
              "RandomForest with balanced class weights               0.599854\n",
              "LogisticRegression+Oversampling                        0.630164"
            ]
          },
          "metadata": {
            "tags": []
          },
          "execution_count": 30
        }
      ]
    },
    {
      "cell_type": "markdown",
      "metadata": {
        "id": "vehR8GNSXNPm"
      },
      "source": [
        "### 6.7 Oversampling + Random Forest\n",
        "SMOTE: Used for over-sampling the minority class"
      ],
      "id": "vehR8GNSXNPm"
    },
    {
      "cell_type": "code",
      "metadata": {
        "colab": {
          "base_uri": "https://localhost:8080/",
          "height": 439
        },
        "id": "rB1mnEiwWZxw",
        "outputId": "178fc2e8-1353-4fd5-80ae-496ba2236543"
      },
      "source": [
        "# Define  estimator\n",
        "rf_reg_rus = RandomForestClassifier(random_state=42)\n",
        "\n",
        "# Define Pipeline\n",
        "steps_rf_reg_rus = [('scaler', preprocessor), ('over', SMOTE(random_state=42)), ('rf_reg_rus', rf_reg_rus)]\n",
        "\n",
        "pipe_rf_reg_rus = Pipeline_with_sampler(steps_rf_reg_rus)\n",
        "\n",
        "# Implement Grid Search\n",
        "params_rf_reg_rus = {'rf_reg_rus__n_estimators' : [100, 150, 200,], \n",
        "                      'rf_reg_rus__max_depth': np.arange(2, 6),  \n",
        "                      'rf_reg_rus__min_samples_leaf': np.arange(3, 6),\n",
        "                      'rf_reg_rus__max_samples': [0.5, 0.6, 0.7, 0.8]\n",
        "                      }\n",
        "\n",
        "rs_rf_reg_rus = RandomizedSearchCV(pipe_rf_reg_rus, \n",
        "                                    param_distributions=params_rf_reg_rus, \n",
        "                                    n_iter=6, \n",
        "                                    scoring='balanced_accuracy', \n",
        "                                    n_jobs=-1, \n",
        "                                    cv=5, \n",
        "                                    random_state=42, \n",
        "                                    verbose=2)\n",
        "\n",
        "# Run grid search and cross-validation\n",
        "rs_rf_reg_rus.fit(X_train_cls, y_train_cls)\n",
        "\n",
        "# Fill the score DF\n",
        "index += [\"RandomForest+Oversampling\"]\n",
        "\n",
        "scores['Averaged Recall'].append(rs_rf_reg_rus.best_score_)\n",
        "\n",
        "df_scores = pd.DataFrame(scores, index=index)\n",
        "df_scores.head(30)"
      ],
      "id": "rB1mnEiwWZxw",
      "execution_count": null,
      "outputs": [
        {
          "output_type": "stream",
          "text": [
            "Fitting 5 folds for each of 6 candidates, totalling 30 fits\n"
          ],
          "name": "stdout"
        },
        {
          "output_type": "stream",
          "text": [
            "[Parallel(n_jobs=-1)]: Using backend LokyBackend with 2 concurrent workers.\n",
            "[Parallel(n_jobs=-1)]: Done  30 out of  30 | elapsed:  4.7min finished\n",
            "/usr/local/lib/python3.7/dist-packages/sklearn/utils/validation.py:760: DataConversionWarning: A column-vector y was passed when a 1d array was expected. Please change the shape of y to (n_samples, ), for example using ravel().\n",
            "  y = column_or_1d(y, warn=True)\n",
            "/usr/local/lib/python3.7/dist-packages/sklearn/utils/deprecation.py:87: FutureWarning: Function safe_indexing is deprecated; safe_indexing is deprecated in version 0.22 and will be removed in version 0.24.\n",
            "  warnings.warn(msg, category=FutureWarning)\n",
            "/usr/local/lib/python3.7/dist-packages/sklearn/utils/deprecation.py:87: FutureWarning: Function safe_indexing is deprecated; safe_indexing is deprecated in version 0.22 and will be removed in version 0.24.\n",
            "  warnings.warn(msg, category=FutureWarning)\n"
          ],
          "name": "stderr"
        },
        {
          "output_type": "execute_result",
          "data": {
            "text/html": [
              "<div>\n",
              "<style scoped>\n",
              "    .dataframe tbody tr th:only-of-type {\n",
              "        vertical-align: middle;\n",
              "    }\n",
              "\n",
              "    .dataframe tbody tr th {\n",
              "        vertical-align: top;\n",
              "    }\n",
              "\n",
              "    .dataframe thead th {\n",
              "        text-align: right;\n",
              "    }\n",
              "</style>\n",
              "<table border=\"1\" class=\"dataframe\">\n",
              "  <thead>\n",
              "    <tr style=\"text-align: right;\">\n",
              "      <th></th>\n",
              "      <th>Averaged Recall</th>\n",
              "    </tr>\n",
              "  </thead>\n",
              "  <tbody>\n",
              "    <tr>\n",
              "      <th>Dummy classifier</th>\n",
              "      <td>0.333333</td>\n",
              "    </tr>\n",
              "    <tr>\n",
              "      <th>LogisticRegression</th>\n",
              "      <td>0.408502</td>\n",
              "    </tr>\n",
              "    <tr>\n",
              "      <th>RandomForest</th>\n",
              "      <td>0.333333</td>\n",
              "    </tr>\n",
              "    <tr>\n",
              "      <th>LogisticRegression with balanced class weights</th>\n",
              "      <td>0.623564</td>\n",
              "    </tr>\n",
              "    <tr>\n",
              "      <th>RandomForest with balanced class weights</th>\n",
              "      <td>0.599854</td>\n",
              "    </tr>\n",
              "    <tr>\n",
              "      <th>LogisticRegression+Oversampling</th>\n",
              "      <td>0.630164</td>\n",
              "    </tr>\n",
              "    <tr>\n",
              "      <th>RandomForest+Oversampling</th>\n",
              "      <td>0.582733</td>\n",
              "    </tr>\n",
              "  </tbody>\n",
              "</table>\n",
              "</div>"
            ],
            "text/plain": [
              "                                                Averaged Recall\n",
              "Dummy classifier                                       0.333333\n",
              "LogisticRegression                                     0.408502\n",
              "RandomForest                                           0.333333\n",
              "LogisticRegression with balanced class weights         0.623564\n",
              "RandomForest with balanced class weights               0.599854\n",
              "LogisticRegression+Oversampling                        0.630164\n",
              "RandomForest+Oversampling                              0.582733"
            ]
          },
          "metadata": {
            "tags": []
          },
          "execution_count": 31
        }
      ]
    },
    {
      "cell_type": "markdown",
      "metadata": {
        "id": "PTzmsXjWYxD4"
      },
      "source": [
        "### 6.8 Undersampling + Logistic Regression\n",
        "\n",
        "Oversampling did not help much.\n",
        "\n",
        "Let us try randomly undersampling the majority class using RandomUnderSampler from imblearn."
      ],
      "id": "PTzmsXjWYxD4"
    },
    {
      "cell_type": "code",
      "metadata": {
        "colab": {
          "base_uri": "https://localhost:8080/",
          "height": 436
        },
        "id": "bn6AyDZWXu2g",
        "outputId": "73d0e21f-5ba0-44c8-e356-4dfdfe066b38"
      },
      "source": [
        "# Define  estimator\n",
        "logreg_rus = LogisticRegression(random_state=42, multi_class='ovr', solver='lbfgs')\n",
        "\n",
        "# Define pipeline\n",
        "steps_logreg_rus = [('scaler', preprocessor), ('under', RandomUnderSampler(random_state=42)), ('logreg_rus', logreg_rus)]\n",
        "\n",
        "pipe_logreg_rus = Pipeline_with_sampler(steps_logreg_rus)\n",
        "\n",
        "# Implement Grid Search\n",
        "params_logreg_rus = {'logreg_rus__C' : [1e-5, 1e-4, 0.001, 0.01, 0.1, 1.0, 10.]\n",
        "                     }\n",
        "\n",
        "rs_logreg_rus = RandomizedSearchCV(pipe_logreg_rus, \n",
        "                                    param_distributions=params_logreg_rus, \n",
        "                                    n_iter=6, \n",
        "                                    scoring='balanced_accuracy', \n",
        "                                    n_jobs=-1, \n",
        "                                    cv=5, \n",
        "                                    random_state=42, \n",
        "                                    verbose=2)\n",
        "\n",
        "# Run grid search and cross-validation\n",
        "rs_logreg_rus.fit(X_train_cls, y_train_cls)\n",
        "\n",
        "# Fill the score DF\n",
        "index += [\"LogisticRegression+Undersampling\"]\n",
        "\n",
        "scores['Averaged Recall'].append(rs_logreg_rus.best_score_)\n",
        "\n",
        "df_scores = pd.DataFrame(scores, index=index)\n",
        "df_scores.head(50)"
      ],
      "id": "bn6AyDZWXu2g",
      "execution_count": null,
      "outputs": [
        {
          "output_type": "stream",
          "text": [
            "Fitting 5 folds for each of 6 candidates, totalling 30 fits\n"
          ],
          "name": "stdout"
        },
        {
          "output_type": "stream",
          "text": [
            "[Parallel(n_jobs=-1)]: Using backend LokyBackend with 2 concurrent workers.\n",
            "[Parallel(n_jobs=-1)]: Done  30 out of  30 | elapsed:    3.7s finished\n",
            "/usr/local/lib/python3.7/dist-packages/sklearn/utils/deprecation.py:87: FutureWarning: Function safe_indexing is deprecated; safe_indexing is deprecated in version 0.22 and will be removed in version 0.24.\n",
            "  warnings.warn(msg, category=FutureWarning)\n",
            "/usr/local/lib/python3.7/dist-packages/sklearn/utils/validation.py:760: DataConversionWarning: A column-vector y was passed when a 1d array was expected. Please change the shape of y to (n_samples, ), for example using ravel().\n",
            "  y = column_or_1d(y, warn=True)\n"
          ],
          "name": "stderr"
        },
        {
          "output_type": "execute_result",
          "data": {
            "text/html": [
              "<div>\n",
              "<style scoped>\n",
              "    .dataframe tbody tr th:only-of-type {\n",
              "        vertical-align: middle;\n",
              "    }\n",
              "\n",
              "    .dataframe tbody tr th {\n",
              "        vertical-align: top;\n",
              "    }\n",
              "\n",
              "    .dataframe thead th {\n",
              "        text-align: right;\n",
              "    }\n",
              "</style>\n",
              "<table border=\"1\" class=\"dataframe\">\n",
              "  <thead>\n",
              "    <tr style=\"text-align: right;\">\n",
              "      <th></th>\n",
              "      <th>Averaged Recall</th>\n",
              "    </tr>\n",
              "  </thead>\n",
              "  <tbody>\n",
              "    <tr>\n",
              "      <th>Dummy classifier</th>\n",
              "      <td>0.333333</td>\n",
              "    </tr>\n",
              "    <tr>\n",
              "      <th>LogisticRegression</th>\n",
              "      <td>0.408502</td>\n",
              "    </tr>\n",
              "    <tr>\n",
              "      <th>RandomForest</th>\n",
              "      <td>0.333333</td>\n",
              "    </tr>\n",
              "    <tr>\n",
              "      <th>LogisticRegression with balanced class weights</th>\n",
              "      <td>0.623564</td>\n",
              "    </tr>\n",
              "    <tr>\n",
              "      <th>RandomForest with balanced class weights</th>\n",
              "      <td>0.599854</td>\n",
              "    </tr>\n",
              "    <tr>\n",
              "      <th>LogisticRegression+Oversampling</th>\n",
              "      <td>0.630164</td>\n",
              "    </tr>\n",
              "    <tr>\n",
              "      <th>RandomForest+Oversampling</th>\n",
              "      <td>0.582733</td>\n",
              "    </tr>\n",
              "    <tr>\n",
              "      <th>LogisticRegression+Undersampling</th>\n",
              "      <td>0.618615</td>\n",
              "    </tr>\n",
              "  </tbody>\n",
              "</table>\n",
              "</div>"
            ],
            "text/plain": [
              "                                                Averaged Recall\n",
              "Dummy classifier                                       0.333333\n",
              "LogisticRegression                                     0.408502\n",
              "RandomForest                                           0.333333\n",
              "LogisticRegression with balanced class weights         0.623564\n",
              "RandomForest with balanced class weights               0.599854\n",
              "LogisticRegression+Oversampling                        0.630164\n",
              "RandomForest+Oversampling                              0.582733\n",
              "LogisticRegression+Undersampling                       0.618615"
            ]
          },
          "metadata": {
            "tags": []
          },
          "execution_count": 32
        }
      ]
    },
    {
      "cell_type": "markdown",
      "metadata": {
        "id": "sEPHPMjdZUoI"
      },
      "source": [
        "### Undersampling + Random Forest\n",
        "\n",
        "Let us try to undersample the majority classes using RandomUnderSampler from imblearn and combining it with Random Forest."
      ],
      "id": "sEPHPMjdZUoI"
    },
    {
      "cell_type": "code",
      "metadata": {
        "colab": {
          "base_uri": "https://localhost:8080/",
          "height": 484
        },
        "id": "WAAAo63WZOo4",
        "outputId": "86cf26d0-71f5-4b85-d04a-db4fc47494ec"
      },
      "source": [
        "# Define  estimator\n",
        "rf_reg_rus = RandomForestClassifier(random_state=42)\n",
        "\n",
        "# Define Pipeline\n",
        "steps_rf_reg_rus = [('scaler', preprocessor), ('under', RandomUnderSampler(random_state=42)), ('rf_reg_rus', rf_reg_rus)]\n",
        "\n",
        "pipe_rf_reg_rus = Pipeline_with_sampler(steps_rf_reg_rus)\n",
        "\n",
        "# Implement Grid Search\n",
        "params_rf_reg_rus = {'rf_reg_rus__n_estimators' : [50, 100, 150, 200,], \n",
        "                      'rf_reg_rus__max_depth': np.arange(2, 6),  \n",
        "                      'rf_reg_rus__min_samples_leaf': np.arange(3, 7),\n",
        "                      'rf_reg_rus__max_samples': [0.5, 0.6, 0.7, 0.8]\n",
        "                      }\n",
        "\n",
        "rs_rf_reg_rus = RandomizedSearchCV(pipe_rf_reg_rus, \n",
        "                                    param_distributions=params_rf_reg_rus, \n",
        "                                    n_iter=12, \n",
        "                                    scoring='balanced_accuracy', \n",
        "                                    n_jobs=-1, \n",
        "                                    cv=5, \n",
        "                                    random_state=42, \n",
        "                                    verbose=2)\n",
        "\n",
        "# Run grid search and cross-validation\n",
        "rs_rf_reg_rus.fit(X_train_cls, y_train_cls)\n",
        "\n",
        "# Fill the score DF\n",
        "index += [\"RandomForest+Undersampling\"]\n",
        "\n",
        "scores['Averaged Recall'].append(rs_rf_reg_rus.best_score_)\n",
        "\n",
        "df_scores = pd.DataFrame(scores, index=index)\n",
        "df_scores.head(30)"
      ],
      "id": "WAAAo63WZOo4",
      "execution_count": null,
      "outputs": [
        {
          "output_type": "stream",
          "text": [
            "Fitting 5 folds for each of 12 candidates, totalling 60 fits\n"
          ],
          "name": "stdout"
        },
        {
          "output_type": "stream",
          "text": [
            "[Parallel(n_jobs=-1)]: Using backend LokyBackend with 2 concurrent workers.\n",
            "[Parallel(n_jobs=-1)]: Done  37 tasks      | elapsed:   13.8s\n",
            "[Parallel(n_jobs=-1)]: Done  60 out of  60 | elapsed:   21.3s finished\n",
            "/usr/local/lib/python3.7/dist-packages/sklearn/utils/deprecation.py:87: FutureWarning: Function safe_indexing is deprecated; safe_indexing is deprecated in version 0.22 and will be removed in version 0.24.\n",
            "  warnings.warn(msg, category=FutureWarning)\n",
            "/usr/local/lib/python3.7/dist-packages/imblearn/pipeline.py:239: DataConversionWarning: A column-vector y was passed when a 1d array was expected. Please change the shape of y to (n_samples,), for example using ravel().\n",
            "  self._final_estimator.fit(Xt, yt, **fit_params)\n"
          ],
          "name": "stderr"
        },
        {
          "output_type": "execute_result",
          "data": {
            "text/html": [
              "<div>\n",
              "<style scoped>\n",
              "    .dataframe tbody tr th:only-of-type {\n",
              "        vertical-align: middle;\n",
              "    }\n",
              "\n",
              "    .dataframe tbody tr th {\n",
              "        vertical-align: top;\n",
              "    }\n",
              "\n",
              "    .dataframe thead th {\n",
              "        text-align: right;\n",
              "    }\n",
              "</style>\n",
              "<table border=\"1\" class=\"dataframe\">\n",
              "  <thead>\n",
              "    <tr style=\"text-align: right;\">\n",
              "      <th></th>\n",
              "      <th>Averaged Recall</th>\n",
              "    </tr>\n",
              "  </thead>\n",
              "  <tbody>\n",
              "    <tr>\n",
              "      <th>Dummy classifier</th>\n",
              "      <td>0.333333</td>\n",
              "    </tr>\n",
              "    <tr>\n",
              "      <th>LogisticRegression</th>\n",
              "      <td>0.408502</td>\n",
              "    </tr>\n",
              "    <tr>\n",
              "      <th>RandomForest</th>\n",
              "      <td>0.333333</td>\n",
              "    </tr>\n",
              "    <tr>\n",
              "      <th>LogisticRegression with balanced class weights</th>\n",
              "      <td>0.623564</td>\n",
              "    </tr>\n",
              "    <tr>\n",
              "      <th>RandomForest with balanced class weights</th>\n",
              "      <td>0.599854</td>\n",
              "    </tr>\n",
              "    <tr>\n",
              "      <th>LogisticRegression+Oversampling</th>\n",
              "      <td>0.630164</td>\n",
              "    </tr>\n",
              "    <tr>\n",
              "      <th>RandomForest+Oversampling</th>\n",
              "      <td>0.582733</td>\n",
              "    </tr>\n",
              "    <tr>\n",
              "      <th>LogisticRegression+Undersampling</th>\n",
              "      <td>0.618615</td>\n",
              "    </tr>\n",
              "    <tr>\n",
              "      <th>RandomForest+Undersampling</th>\n",
              "      <td>0.592551</td>\n",
              "    </tr>\n",
              "  </tbody>\n",
              "</table>\n",
              "</div>"
            ],
            "text/plain": [
              "                                                Averaged Recall\n",
              "Dummy classifier                                       0.333333\n",
              "LogisticRegression                                     0.408502\n",
              "RandomForest                                           0.333333\n",
              "LogisticRegression with balanced class weights         0.623564\n",
              "RandomForest with balanced class weights               0.599854\n",
              "LogisticRegression+Oversampling                        0.630164\n",
              "RandomForest+Oversampling                              0.582733\n",
              "LogisticRegression+Undersampling                       0.618615\n",
              "RandomForest+Undersampling                             0.592551"
            ]
          },
          "metadata": {
            "tags": []
          },
          "execution_count": 33
        }
      ]
    },
    {
      "cell_type": "markdown",
      "metadata": {
        "id": "yXdLFLX2Z23J"
      },
      "source": [
        "### Undersampling + XGBoost\n",
        "\n",
        "Let us now use XGBoost along with undersampling to check whether the performance improves."
      ],
      "id": "yXdLFLX2Z23J"
    },
    {
      "cell_type": "code",
      "metadata": {
        "colab": {
          "base_uri": "https://localhost:8080/",
          "height": 394
        },
        "id": "159JzEI7Zfeq",
        "outputId": "57591b3c-ef96-41cf-ace8-2a21bb5d4f37"
      },
      "source": [
        "# Define  estimator\n",
        "xgb_reg_rus = xgb.XGBClassifier(random_state=42, \n",
        "                                objective='multi:softmax',\n",
        "                                booster='gbtree',\n",
        "                              )\n",
        "\n",
        "# Define pipeline\n",
        "steps_xgb_reg_rus = [('scaler', preprocessor), ('under', RandomUnderSampler(random_state=42)), ('xgb_reg_rus', xgb_reg_rus)]\n",
        "\n",
        "pipe_xgb_reg_rus = Pipeline_with_sampler(steps_xgb_reg_rus)\n",
        "\n",
        "# Implement Grid Search\n",
        "params_xgb_reg_rus = {'xgb_reg_rus__n_estimators' : [50, 100, 150, 200,], \n",
        "                      'xgb_reg_rus__max_depth': np.arange(2, 6),  \n",
        "                      'xgb_reg_rus__min_samples_leaf': np.arange(3, 7),\n",
        "                      'xgb_reg_rus__learning_rate' : [0.001, 0.01, 0.1],\n",
        "                      'xgb_reg_rus__gamma' : [0.01, 0.1], \n",
        "                      'xgb_reg_rus__reg_alpha' : np.logspace(-3, 1.4, 6),\n",
        "                      'xgb_reg_rus__reg_lambda' : np.logspace(-3, 1.4, 6),\n",
        "                      }\n",
        "\n",
        "rs_xgb_reg_rus = RandomizedSearchCV(pipe_xgb_reg_rus, \n",
        "                                    param_distributions=params_xgb_reg_rus, \n",
        "                                    n_iter=15, \n",
        "                                    scoring='balanced_accuracy', \n",
        "                                    n_jobs=-1, \n",
        "                                    cv=5, \n",
        "                                    random_state=42, \n",
        "                                    verbose=2)\n",
        "\n",
        "# Run grid search and cross-validation\n",
        "rs_xgb_reg_rus.fit(X_train_cls, y_train_cls)\n",
        "\n",
        "# Fill the score DF\n",
        "index += [\"XGBoost+Undersampling\"]\n",
        "\n",
        "scores['Averaged Recall'].append(rs_xgb_reg_rus.best_score_)\n",
        "\n",
        "df_scores = pd.DataFrame(scores, index=index)\n",
        "df_scores.head()"
      ],
      "id": "159JzEI7Zfeq",
      "execution_count": null,
      "outputs": [
        {
          "output_type": "stream",
          "text": [
            "Fitting 5 folds for each of 15 candidates, totalling 75 fits\n"
          ],
          "name": "stdout"
        },
        {
          "output_type": "stream",
          "text": [
            "[Parallel(n_jobs=-1)]: Using backend LokyBackend with 2 concurrent workers.\n",
            "[Parallel(n_jobs=-1)]: Done  37 tasks      | elapsed:   25.5s\n",
            "[Parallel(n_jobs=-1)]: Done  75 out of  75 | elapsed:  1.1min finished\n",
            "/usr/local/lib/python3.7/dist-packages/sklearn/utils/deprecation.py:87: FutureWarning: Function safe_indexing is deprecated; safe_indexing is deprecated in version 0.22 and will be removed in version 0.24.\n",
            "  warnings.warn(msg, category=FutureWarning)\n",
            "/usr/local/lib/python3.7/dist-packages/sklearn/preprocessing/_label.py:235: DataConversionWarning: A column-vector y was passed when a 1d array was expected. Please change the shape of y to (n_samples, ), for example using ravel().\n",
            "  y = column_or_1d(y, warn=True)\n",
            "/usr/local/lib/python3.7/dist-packages/sklearn/preprocessing/_label.py:268: DataConversionWarning: A column-vector y was passed when a 1d array was expected. Please change the shape of y to (n_samples, ), for example using ravel().\n",
            "  y = column_or_1d(y, warn=True)\n"
          ],
          "name": "stderr"
        },
        {
          "output_type": "execute_result",
          "data": {
            "text/html": [
              "<div>\n",
              "<style scoped>\n",
              "    .dataframe tbody tr th:only-of-type {\n",
              "        vertical-align: middle;\n",
              "    }\n",
              "\n",
              "    .dataframe tbody tr th {\n",
              "        vertical-align: top;\n",
              "    }\n",
              "\n",
              "    .dataframe thead th {\n",
              "        text-align: right;\n",
              "    }\n",
              "</style>\n",
              "<table border=\"1\" class=\"dataframe\">\n",
              "  <thead>\n",
              "    <tr style=\"text-align: right;\">\n",
              "      <th></th>\n",
              "      <th>Averaged Recall</th>\n",
              "    </tr>\n",
              "  </thead>\n",
              "  <tbody>\n",
              "    <tr>\n",
              "      <th>Dummy classifier</th>\n",
              "      <td>0.333333</td>\n",
              "    </tr>\n",
              "    <tr>\n",
              "      <th>LogisticRegression</th>\n",
              "      <td>0.408502</td>\n",
              "    </tr>\n",
              "    <tr>\n",
              "      <th>RandomForest</th>\n",
              "      <td>0.333333</td>\n",
              "    </tr>\n",
              "    <tr>\n",
              "      <th>LogisticRegression with balanced class weights</th>\n",
              "      <td>0.623564</td>\n",
              "    </tr>\n",
              "    <tr>\n",
              "      <th>RandomForest with balanced class weights</th>\n",
              "      <td>0.599854</td>\n",
              "    </tr>\n",
              "  </tbody>\n",
              "</table>\n",
              "</div>"
            ],
            "text/plain": [
              "                                                Averaged Recall\n",
              "Dummy classifier                                       0.333333\n",
              "LogisticRegression                                     0.408502\n",
              "RandomForest                                           0.333333\n",
              "LogisticRegression with balanced class weights         0.623564\n",
              "RandomForest with balanced class weights               0.599854"
            ]
          },
          "metadata": {
            "tags": []
          },
          "execution_count": 34
        }
      ]
    },
    {
      "cell_type": "code",
      "metadata": {
        "colab": {
          "base_uri": "https://localhost:8080/",
          "height": 359
        },
        "id": "GnAkBAdVaBPg",
        "outputId": "f6d87138-eaa2-490a-b1a2-b8363df0488c"
      },
      "source": [
        "df_scores.head(30)"
      ],
      "id": "GnAkBAdVaBPg",
      "execution_count": null,
      "outputs": [
        {
          "output_type": "execute_result",
          "data": {
            "text/html": [
              "<div>\n",
              "<style scoped>\n",
              "    .dataframe tbody tr th:only-of-type {\n",
              "        vertical-align: middle;\n",
              "    }\n",
              "\n",
              "    .dataframe tbody tr th {\n",
              "        vertical-align: top;\n",
              "    }\n",
              "\n",
              "    .dataframe thead th {\n",
              "        text-align: right;\n",
              "    }\n",
              "</style>\n",
              "<table border=\"1\" class=\"dataframe\">\n",
              "  <thead>\n",
              "    <tr style=\"text-align: right;\">\n",
              "      <th></th>\n",
              "      <th>Averaged Recall</th>\n",
              "    </tr>\n",
              "  </thead>\n",
              "  <tbody>\n",
              "    <tr>\n",
              "      <th>Dummy classifier</th>\n",
              "      <td>0.333333</td>\n",
              "    </tr>\n",
              "    <tr>\n",
              "      <th>LogisticRegression</th>\n",
              "      <td>0.408502</td>\n",
              "    </tr>\n",
              "    <tr>\n",
              "      <th>RandomForest</th>\n",
              "      <td>0.333333</td>\n",
              "    </tr>\n",
              "    <tr>\n",
              "      <th>LogisticRegression with balanced class weights</th>\n",
              "      <td>0.623564</td>\n",
              "    </tr>\n",
              "    <tr>\n",
              "      <th>RandomForest with balanced class weights</th>\n",
              "      <td>0.599854</td>\n",
              "    </tr>\n",
              "    <tr>\n",
              "      <th>LogisticRegression+Oversampling</th>\n",
              "      <td>0.630164</td>\n",
              "    </tr>\n",
              "    <tr>\n",
              "      <th>RandomForest+Oversampling</th>\n",
              "      <td>0.582733</td>\n",
              "    </tr>\n",
              "    <tr>\n",
              "      <th>LogisticRegression+Undersampling</th>\n",
              "      <td>0.618615</td>\n",
              "    </tr>\n",
              "    <tr>\n",
              "      <th>RandomForest+Undersampling</th>\n",
              "      <td>0.592551</td>\n",
              "    </tr>\n",
              "    <tr>\n",
              "      <th>XGBoost+Undersampling</th>\n",
              "      <td>0.677469</td>\n",
              "    </tr>\n",
              "  </tbody>\n",
              "</table>\n",
              "</div>"
            ],
            "text/plain": [
              "                                                Averaged Recall\n",
              "Dummy classifier                                       0.333333\n",
              "LogisticRegression                                     0.408502\n",
              "RandomForest                                           0.333333\n",
              "LogisticRegression with balanced class weights         0.623564\n",
              "RandomForest with balanced class weights               0.599854\n",
              "LogisticRegression+Oversampling                        0.630164\n",
              "RandomForest+Oversampling                              0.582733\n",
              "LogisticRegression+Undersampling                       0.618615\n",
              "RandomForest+Undersampling                             0.592551\n",
              "XGBoost+Undersampling                                  0.677469"
            ]
          },
          "metadata": {
            "tags": []
          },
          "execution_count": 35
        }
      ]
    },
    {
      "cell_type": "markdown",
      "metadata": {
        "id": "AzUHZzeRao0A"
      },
      "source": [
        "XGBoost + Undersampling seems to have improved the performance a lot compared to the previous models. "
      ],
      "id": "AzUHZzeRao0A"
    },
    {
      "cell_type": "markdown",
      "metadata": {
        "id": "2X3mxqLWaviW"
      },
      "source": [
        "### Balanced Bagging Classifier with gradient-boosted base learners\n",
        "\n",
        "Undersampling seems to improve the performance in tree-based models. Instead of undersampling once the entire dataset, next I will try a BalancedBaggingClassifier that will undersample the original dataset before to take a bootstrap sample. The base learner used in this case is a gradient-boosted tree-based model."
      ],
      "id": "2X3mxqLWaviW"
    },
    {
      "cell_type": "code",
      "metadata": {
        "colab": {
          "base_uri": "https://localhost:8080/",
          "height": 614
        },
        "id": "6nx8pRarak9Y",
        "outputId": "4d362f48-bc19-48c9-c28a-13cbb497bc86"
      },
      "source": [
        "#Define estimator\n",
        "bag_clf = BalancedBaggingClassifier(\n",
        "                                    base_estimator=HistGradientBoostingClassifier(random_state=42, \n",
        "                                                                                  max_depth=5, \n",
        "                                                                                  l2_regularization=0.01),\n",
        "                                    random_state=42,\n",
        "                                    n_jobs=-1,\n",
        "                                    n_estimators=60,\n",
        "                                    )\n",
        "\n",
        "# Define Pipeline\n",
        "steps_bag_clf = [('scaler', preprocessor), ('bag_clf', bag_clf)]\n",
        "\n",
        "pipe_bag_clf = Pipeline(steps_bag_clf)\n",
        "\n",
        "index += [\"Balanced bag of histogram gradient boosting\"]\n",
        "\n",
        "cv_result = cross_validate(pipe_bag_clf, \n",
        "                           X_train_cls, \n",
        "                           y_train_cls, \n",
        "                           scoring=[\"balanced_accuracy\"], \n",
        "                           cv=5)\n",
        "\n",
        "final_cval_score = np.around(cv_result[\"test_balanced_accuracy\"].mean(), 2)\n",
        "scores[\"Averaged Recall\"].append(final_cval_score)\n",
        "\n",
        "df_scores = pd.DataFrame(scores, index=index)\n",
        "df_scores.head(30)\n",
        "\n",
        "#print(cv_result[\"test_balanced_accuracy\"].mean())"
      ],
      "id": "6nx8pRarak9Y",
      "execution_count": null,
      "outputs": [
        {
          "output_type": "stream",
          "text": [
            "/usr/local/lib/python3.7/dist-packages/sklearn/ensemble/_bagging.py:645: DataConversionWarning: A column-vector y was passed when a 1d array was expected. Please change the shape of y to (n_samples, ), for example using ravel().\n",
            "  y = column_or_1d(y, warn=True)\n",
            "/usr/local/lib/python3.7/dist-packages/sklearn/ensemble/_bagging.py:645: DataConversionWarning: A column-vector y was passed when a 1d array was expected. Please change the shape of y to (n_samples, ), for example using ravel().\n",
            "  y = column_or_1d(y, warn=True)\n",
            "/usr/local/lib/python3.7/dist-packages/sklearn/ensemble/_bagging.py:645: DataConversionWarning: A column-vector y was passed when a 1d array was expected. Please change the shape of y to (n_samples, ), for example using ravel().\n",
            "  y = column_or_1d(y, warn=True)\n",
            "/usr/local/lib/python3.7/dist-packages/sklearn/ensemble/_bagging.py:645: DataConversionWarning: A column-vector y was passed when a 1d array was expected. Please change the shape of y to (n_samples, ), for example using ravel().\n",
            "  y = column_or_1d(y, warn=True)\n",
            "/usr/local/lib/python3.7/dist-packages/sklearn/ensemble/_bagging.py:645: DataConversionWarning: A column-vector y was passed when a 1d array was expected. Please change the shape of y to (n_samples, ), for example using ravel().\n",
            "  y = column_or_1d(y, warn=True)\n",
            "/usr/local/lib/python3.7/dist-packages/joblib/externals/loky/process_executor.py:691: UserWarning: A worker stopped while some jobs were given to the executor. This can be caused by a too short worker timeout or by a memory leak.\n",
            "  \"timeout or by a memory leak.\", UserWarning\n"
          ],
          "name": "stderr"
        },
        {
          "output_type": "execute_result",
          "data": {
            "text/html": [
              "<div>\n",
              "<style scoped>\n",
              "    .dataframe tbody tr th:only-of-type {\n",
              "        vertical-align: middle;\n",
              "    }\n",
              "\n",
              "    .dataframe tbody tr th {\n",
              "        vertical-align: top;\n",
              "    }\n",
              "\n",
              "    .dataframe thead th {\n",
              "        text-align: right;\n",
              "    }\n",
              "</style>\n",
              "<table border=\"1\" class=\"dataframe\">\n",
              "  <thead>\n",
              "    <tr style=\"text-align: right;\">\n",
              "      <th></th>\n",
              "      <th>Averaged Recall</th>\n",
              "    </tr>\n",
              "  </thead>\n",
              "  <tbody>\n",
              "    <tr>\n",
              "      <th>Dummy classifier</th>\n",
              "      <td>0.333333</td>\n",
              "    </tr>\n",
              "    <tr>\n",
              "      <th>LogisticRegression</th>\n",
              "      <td>0.408502</td>\n",
              "    </tr>\n",
              "    <tr>\n",
              "      <th>RandomForest</th>\n",
              "      <td>0.333333</td>\n",
              "    </tr>\n",
              "    <tr>\n",
              "      <th>LogisticRegression with balanced class weights</th>\n",
              "      <td>0.623564</td>\n",
              "    </tr>\n",
              "    <tr>\n",
              "      <th>RandomForest with balanced class weights</th>\n",
              "      <td>0.599854</td>\n",
              "    </tr>\n",
              "    <tr>\n",
              "      <th>LogisticRegression+Oversampling</th>\n",
              "      <td>0.630164</td>\n",
              "    </tr>\n",
              "    <tr>\n",
              "      <th>RandomForest+Oversampling</th>\n",
              "      <td>0.582733</td>\n",
              "    </tr>\n",
              "    <tr>\n",
              "      <th>LogisticRegression+Undersampling</th>\n",
              "      <td>0.618615</td>\n",
              "    </tr>\n",
              "    <tr>\n",
              "      <th>RandomForest+Undersampling</th>\n",
              "      <td>0.592551</td>\n",
              "    </tr>\n",
              "    <tr>\n",
              "      <th>XGBoost+Undersampling</th>\n",
              "      <td>0.677469</td>\n",
              "    </tr>\n",
              "    <tr>\n",
              "      <th>Balanced bag of histogram gradient boosting</th>\n",
              "      <td>0.700000</td>\n",
              "    </tr>\n",
              "  </tbody>\n",
              "</table>\n",
              "</div>"
            ],
            "text/plain": [
              "                                                Averaged Recall\n",
              "Dummy classifier                                       0.333333\n",
              "LogisticRegression                                     0.408502\n",
              "RandomForest                                           0.333333\n",
              "LogisticRegression with balanced class weights         0.623564\n",
              "RandomForest with balanced class weights               0.599854\n",
              "LogisticRegression+Oversampling                        0.630164\n",
              "RandomForest+Oversampling                              0.582733\n",
              "LogisticRegression+Undersampling                       0.618615\n",
              "RandomForest+Undersampling                             0.592551\n",
              "XGBoost+Undersampling                                  0.677469\n",
              "Balanced bag of histogram gradient boosting            0.700000"
            ]
          },
          "metadata": {
            "tags": []
          },
          "execution_count": 36
        }
      ]
    },
    {
      "cell_type": "markdown",
      "metadata": {
        "id": "tmmHyPYyg9pN"
      },
      "source": [
        "# 7. Model evaluation"
      ],
      "id": "tmmHyPYyg9pN"
    },
    {
      "cell_type": "markdown",
      "metadata": {
        "id": "zpgJtynVhN8X"
      },
      "source": [
        "### Balanced bag of histogram boosting"
      ],
      "id": "zpgJtynVhN8X"
    },
    {
      "cell_type": "code",
      "metadata": {
        "colab": {
          "base_uri": "https://localhost:8080/"
        },
        "id": "MNtuOQcVetG_",
        "outputId": "8380de95-3223-43b9-f1eb-9ef20a377ab2"
      },
      "source": [
        "bag_clf_train = pipe_bag_clf.fit(X_train_cls, y_train_cls)"
      ],
      "id": "MNtuOQcVetG_",
      "execution_count": null,
      "outputs": [
        {
          "output_type": "stream",
          "text": [
            "/usr/local/lib/python3.7/dist-packages/sklearn/ensemble/_bagging.py:645: DataConversionWarning: A column-vector y was passed when a 1d array was expected. Please change the shape of y to (n_samples, ), for example using ravel().\n",
            "  y = column_or_1d(y, warn=True)\n"
          ],
          "name": "stderr"
        }
      ]
    },
    {
      "cell_type": "code",
      "metadata": {
        "id": "-haibcpWhQzY"
      },
      "source": [
        "y_pred_bag = pipe_bag_clf.predict(X_test_cls)\n",
        "\n",
        "bal_acc_bag = balanced_accuracy_score(y_test_cls, y_pred_bag)"
      ],
      "id": "-haibcpWhQzY",
      "execution_count": null,
      "outputs": []
    },
    {
      "cell_type": "markdown",
      "metadata": {
        "id": "gyVFErLQhZeI"
      },
      "source": [
        "### XGBoost + Undersampling"
      ],
      "id": "gyVFErLQhZeI"
    },
    {
      "cell_type": "code",
      "metadata": {
        "id": "lUdECtQ8hZIx"
      },
      "source": [
        "y_pred_xgb_rus = rs_xgb_reg_rus.predict(X_test_cls)\n",
        "\n",
        "bal_acc_xgb_rus = balanced_accuracy_score(y_test_cls, y_pred_xgb_rus)"
      ],
      "id": "lUdECtQ8hZIx",
      "execution_count": null,
      "outputs": []
    },
    {
      "cell_type": "markdown",
      "metadata": {
        "id": "VhId9IIzhtFC"
      },
      "source": [
        "### RandomForest + Undersampling"
      ],
      "id": "VhId9IIzhtFC"
    },
    {
      "cell_type": "code",
      "metadata": {
        "id": "JRWqZsX5hZFP"
      },
      "source": [
        "y_pred_rf_rus = rs_rf_reg_rus.predict(X_test_cls)\n",
        "\n",
        "bal_acc_rf_rus = balanced_accuracy_score(y_test_cls, y_pred_rf_rus)"
      ],
      "id": "JRWqZsX5hZFP",
      "execution_count": null,
      "outputs": []
    },
    {
      "cell_type": "markdown",
      "metadata": {
        "id": "NLogBrmJh0TO"
      },
      "source": [
        "### Logistic Regression + Undersampling"
      ],
      "id": "NLogBrmJh0TO"
    },
    {
      "cell_type": "code",
      "metadata": {
        "id": "T_MMlY57hY7W"
      },
      "source": [
        "y_pred_logreg_rus = rs_logreg_rus.predict(X_test_cls)\n",
        "\n",
        "bal_acc_logreg_rus = balanced_accuracy_score(y_test_cls, y_pred_logreg_rus)"
      ],
      "id": "T_MMlY57hY7W",
      "execution_count": null,
      "outputs": []
    },
    {
      "cell_type": "markdown",
      "metadata": {
        "id": "NhTPAY5aiOIR"
      },
      "source": [
        "### Dummy clf"
      ],
      "id": "NhTPAY5aiOIR"
    },
    {
      "cell_type": "code",
      "metadata": {
        "colab": {
          "base_uri": "https://localhost:8080/"
        },
        "id": "dfu4_cPviN2J",
        "outputId": "7929f98a-4df0-4277-e167-123c26526df2"
      },
      "source": [
        "dummy_clf.fit(X_train_cls, y_train_cls)"
      ],
      "id": "dfu4_cPviN2J",
      "execution_count": null,
      "outputs": [
        {
          "output_type": "execute_result",
          "data": {
            "text/plain": [
              "DummyClassifier(constant=None, random_state=None, strategy='most_frequent')"
            ]
          },
          "metadata": {
            "tags": []
          },
          "execution_count": 53
        }
      ]
    },
    {
      "cell_type": "code",
      "metadata": {
        "id": "3_upQd9piS4m"
      },
      "source": [
        "y_pred_dummy_clf = dummy_clf.predict(X_test_cls)\n",
        "\n",
        "bal_acc_dummy_clf = balanced_accuracy_score(y_test_cls, y_pred_dummy_clf)"
      ],
      "id": "3_upQd9piS4m",
      "execution_count": null,
      "outputs": []
    },
    {
      "cell_type": "markdown",
      "metadata": {
        "id": "O27EalJ8kEFn"
      },
      "source": [
        "### Summary of the test set predictions"
      ],
      "id": "O27EalJ8kEFn"
    },
    {
      "cell_type": "code",
      "metadata": {
        "colab": {
          "base_uri": "https://localhost:8080/",
          "height": 204
        },
        "id": "T9Kb0-Z0kDrD",
        "outputId": "9065fee8-e515-4620-c6da-0534389037e5"
      },
      "source": [
        "df_recall = pd.DataFrame()\n",
        "\n",
        "df_recall['Model'] = ['Dummy Classifier', \n",
        "                    'Logistic Regression+Undersampling', \n",
        "                    'RandomForest+Undersampling', \n",
        "                    'XGBoost+Undersampling', \n",
        "                    'Balanced_bag_of_hist_boosting']\n",
        "\n",
        "df_recall['Averaged Recall'] = [bal_acc_dummy_clf, \n",
        "                                bal_acc_logreg_rus, \n",
        "                                bal_acc_rf_rus, \n",
        "                                bal_acc_xgb_rus, \n",
        "                                bal_acc_bag]\n",
        "\n",
        "\n",
        "df_recall.head()"
      ],
      "id": "T9Kb0-Z0kDrD",
      "execution_count": null,
      "outputs": [
        {
          "output_type": "execute_result",
          "data": {
            "text/html": [
              "<div>\n",
              "<style scoped>\n",
              "    .dataframe tbody tr th:only-of-type {\n",
              "        vertical-align: middle;\n",
              "    }\n",
              "\n",
              "    .dataframe tbody tr th {\n",
              "        vertical-align: top;\n",
              "    }\n",
              "\n",
              "    .dataframe thead th {\n",
              "        text-align: right;\n",
              "    }\n",
              "</style>\n",
              "<table border=\"1\" class=\"dataframe\">\n",
              "  <thead>\n",
              "    <tr style=\"text-align: right;\">\n",
              "      <th></th>\n",
              "      <th>Model</th>\n",
              "      <th>Averaged Recall</th>\n",
              "    </tr>\n",
              "  </thead>\n",
              "  <tbody>\n",
              "    <tr>\n",
              "      <th>0</th>\n",
              "      <td>Dummy Classifier</td>\n",
              "      <td>0.333333</td>\n",
              "    </tr>\n",
              "    <tr>\n",
              "      <th>1</th>\n",
              "      <td>Logistic Regression+Undersampling</td>\n",
              "      <td>0.637221</td>\n",
              "    </tr>\n",
              "    <tr>\n",
              "      <th>2</th>\n",
              "      <td>RandomForest+Undersampling</td>\n",
              "      <td>0.610754</td>\n",
              "    </tr>\n",
              "    <tr>\n",
              "      <th>3</th>\n",
              "      <td>XGBoost+Undersampling</td>\n",
              "      <td>0.689607</td>\n",
              "    </tr>\n",
              "    <tr>\n",
              "      <th>4</th>\n",
              "      <td>Balanced_bag_of_hist_boosting</td>\n",
              "      <td>0.703528</td>\n",
              "    </tr>\n",
              "  </tbody>\n",
              "</table>\n",
              "</div>"
            ],
            "text/plain": [
              "                               Model  Averaged Recall\n",
              "0                   Dummy Classifier         0.333333\n",
              "1  Logistic Regression+Undersampling         0.637221\n",
              "2         RandomForest+Undersampling         0.610754\n",
              "3              XGBoost+Undersampling         0.689607\n",
              "4      Balanced_bag_of_hist_boosting         0.703528"
            ]
          },
          "metadata": {
            "tags": []
          },
          "execution_count": 55
        }
      ]
    }
  ]
}