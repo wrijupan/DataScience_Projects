{
 "cells": [
  {
   "cell_type": "code",
   "execution_count": 1,
   "id": "revised-camping",
   "metadata": {},
   "outputs": [
    {
     "name": "stdout",
     "output_type": "stream",
     "text": [
      "/Users/apple/Documents/My_GITHUB/DataScience_Projects/Image_classification_malaria\n"
     ]
    }
   ],
   "source": [
    "%cd /Users/apple/Documents/My_GITHUB/DataScience_Projects/Image_classification_malaria"
   ]
  },
  {
   "cell_type": "markdown",
   "id": "sexual-investigation",
   "metadata": {},
   "source": [
    "# Import libraries"
   ]
  },
  {
   "cell_type": "code",
   "execution_count": 2,
   "id": "hawaiian-revelation",
   "metadata": {},
   "outputs": [
    {
     "ename": "ModuleNotFoundError",
     "evalue": "No module named 'utils'",
     "output_type": "error",
     "traceback": [
      "\u001b[0;31m---------------------------------------------------------------------------\u001b[0m",
      "\u001b[0;31mModuleNotFoundError\u001b[0m                       Traceback (most recent call last)",
      "\u001b[0;32m<ipython-input-2-cd17299c9782>\u001b[0m in \u001b[0;36m<module>\u001b[0;34m\u001b[0m\n\u001b[1;32m     24\u001b[0m \u001b[0msys\u001b[0m\u001b[0;34m.\u001b[0m\u001b[0mpath\u001b[0m \u001b[0;34m+=\u001b[0m \u001b[0;34m[\u001b[0m\u001b[0;34m'src'\u001b[0m\u001b[0;34m]\u001b[0m\u001b[0;34m\u001b[0m\u001b[0;34m\u001b[0m\u001b[0m\n\u001b[1;32m     25\u001b[0m \u001b[0;34m\u001b[0m\u001b[0m\n\u001b[0;32m---> 26\u001b[0;31m \u001b[0;32mimport\u001b[0m \u001b[0mutils\u001b[0m \u001b[0;32mas\u001b[0m \u001b[0mutils\u001b[0m\u001b[0;34m\u001b[0m\u001b[0;34m\u001b[0m\u001b[0m\n\u001b[0m\u001b[1;32m     27\u001b[0m \u001b[0;32mimport\u001b[0m \u001b[0mtrain_test_split\u001b[0m \u001b[0;32mas\u001b[0m \u001b[0msplt\u001b[0m\u001b[0;34m\u001b[0m\u001b[0;34m\u001b[0m\u001b[0m\n\u001b[1;32m     28\u001b[0m \u001b[0;32mimport\u001b[0m \u001b[0mdata_preprocessing\u001b[0m \u001b[0;32mas\u001b[0m \u001b[0mprocess\u001b[0m\u001b[0;34m\u001b[0m\u001b[0;34m\u001b[0m\u001b[0m\n",
      "\u001b[0;31mModuleNotFoundError\u001b[0m: No module named 'utils'"
     ]
    }
   ],
   "source": [
    "##########################################################\n",
    "# Import Python libraries\n",
    "##########################################################\n",
    "import glob\n",
    "import sys\n",
    "import os\n",
    "import tqdm\n",
    "import time\n",
    "import random\n",
    "from collections import Counter\n",
    "from PIL import Image\n",
    "import numpy as np\n",
    "import matplotlib.pyplot as plt\n",
    "\n",
    "##########################################################\n",
    "# Import Tensorflow libraries\n",
    "##########################################################\n",
    "import tensorflow as tf\n",
    "from tensorflow.keras import models, layers\n",
    "\n",
    "##########################################################\n",
    "# Import Custom-made libraries\n",
    "##########################################################\n",
    "sys.path += ['src']\n",
    "\n",
    "import utils as utils\n",
    "import train_test_split as splt\n",
    "import data_preprocessing as process\n",
    "import cnn_model as cnn\n",
    "import model_training as train"
   ]
  },
  {
   "cell_type": "markdown",
   "id": "contemporary-slope",
   "metadata": {},
   "source": [
    "# 1. Loading Data"
   ]
  },
  {
   "cell_type": "code",
   "execution_count": null,
   "id": "commercial-masters",
   "metadata": {},
   "outputs": [],
   "source": [
    "BASE = \"/Users/apple/Documents/My_GITHUB/DataScience_Projects/Image_classification_malaria\""
   ]
  },
  {
   "cell_type": "markdown",
   "id": "orange-globe",
   "metadata": {},
   "source": [
    "### Loading malaria data"
   ]
  },
  {
   "cell_type": "code",
   "execution_count": 4,
   "id": "iraqi-template",
   "metadata": {},
   "outputs": [
    {
     "name": "stdout",
     "output_type": "stream",
     "text": [
      "Number of malaria JPEG images = 5493\n"
     ]
    }
   ],
   "source": [
    "malaria_files = utils.get_malaria_files(BASE, 'data')\n",
    "\n",
    "print(\"Number of malaria JPEG images = {}\".format(len(malaria_files)))"
   ]
  },
  {
   "cell_type": "markdown",
   "id": "detailed-incident",
   "metadata": {},
   "source": [
    "### Loading no malaria data"
   ]
  },
  {
   "cell_type": "code",
   "execution_count": 5,
   "id": "packed-legislation",
   "metadata": {},
   "outputs": [
    {
     "name": "stdout",
     "output_type": "stream",
     "text": [
      "Number of no malaria JPEG images = 7258\n"
     ]
    }
   ],
   "source": [
    "no_malaria_files = utils.get_no_malaria_files(BASE, 'data')\n",
    "\n",
    "print(\"Number of no malaria JPEG images = {}\".format(len(no_malaria_files)))"
   ]
  },
  {
   "cell_type": "markdown",
   "id": "drawn-proof",
   "metadata": {},
   "source": [
    "# 2. Splitting the data into train and test samples\n",
    "\n",
    "The test samples are randomly sampled from the whole dataset. The remainning number of samples are used for training.\n",
    "\n",
    "**The test dataset is sampled to have balanced class labels.**\n",
    "\n",
    "**Labelling convention:**\n",
    "1. Label 1: Malaria\n",
    "2. Label 0: No malaria"
   ]
  },
  {
   "cell_type": "code",
   "execution_count": 6,
   "id": "arabic-knowing",
   "metadata": {},
   "outputs": [],
   "source": [
    "X_train, y_train, X_test, y_test = splt.make_train_test_split(BASE, 'data', test_size=0.2)"
   ]
  },
  {
   "cell_type": "code",
   "execution_count": 7,
   "id": "peaceful-minneapolis",
   "metadata": {},
   "outputs": [],
   "source": [
    "assert len(X_train) == len(y_train)"
   ]
  },
  {
   "cell_type": "code",
   "execution_count": 8,
   "id": "monthly-coupon",
   "metadata": {},
   "outputs": [],
   "source": [
    "assert len(X_test) == len(y_test)"
   ]
  },
  {
   "cell_type": "code",
   "execution_count": 9,
   "id": "flying-shape",
   "metadata": {},
   "outputs": [
    {
     "name": "stdout",
     "output_type": "stream",
     "text": [
      "Number of train files=10201\n"
     ]
    }
   ],
   "source": [
    "print(\"Number of train files={}\".format(len(X_train)))"
   ]
  },
  {
   "cell_type": "code",
   "execution_count": 10,
   "id": "sapphire-hands",
   "metadata": {},
   "outputs": [
    {
     "name": "stdout",
     "output_type": "stream",
     "text": [
      "Number of test files=2550\n"
     ]
    }
   ],
   "source": [
    "print(\"Number of test files={}\".format(len(X_test)))"
   ]
  },
  {
   "cell_type": "code",
   "execution_count": 11,
   "id": "hungry-pencil",
   "metadata": {},
   "outputs": [
    {
     "data": {
      "text/plain": [
       "Counter({1: 1275, 0: 1275})"
      ]
     },
     "execution_count": 11,
     "metadata": {},
     "output_type": "execute_result"
    }
   ],
   "source": [
    "# Balanced class labels in test\n",
    "Counter(y_test)"
   ]
  },
  {
   "cell_type": "markdown",
   "id": "common-nightmare",
   "metadata": {},
   "source": [
    "# 3. Data preprocessing\n",
    "\n",
    "### A. Make tensorflow dataset: \n",
    "The first aim is to preprocess the data so that the JPEG files can be converted to Tensorflow Datasets."
   ]
  },
  {
   "cell_type": "code",
   "execution_count": 12,
   "id": "precious-series",
   "metadata": {},
   "outputs": [],
   "source": [
    "train_dataset = process.make_tf_dataset(X_train, y_train)"
   ]
  },
  {
   "cell_type": "code",
   "execution_count": 13,
   "id": "deluxe-diesel",
   "metadata": {},
   "outputs": [],
   "source": [
    "test_dataset = process.make_tf_dataset(X_test, y_test)"
   ]
  },
  {
   "cell_type": "markdown",
   "id": "functioning-lighter",
   "metadata": {},
   "source": [
    "### B. Data preprocessing:\n",
    "1. Read the JPEG files, \n",
    "2. convert them to float 32 \n",
    "3. and resize all images to the same shape\n",
    "4. Perform data augumentation\n",
    "\n",
    "The plotting_dataset is a sample to show the preprocessing step through plotting."
   ]
  },
  {
   "cell_type": "code",
   "execution_count": 14,
   "id": "opening-shaft",
   "metadata": {},
   "outputs": [],
   "source": [
    "plotting_dataset = train_dataset.map(lambda X, y: process.encode(X, y))"
   ]
  },
  {
   "cell_type": "code",
   "execution_count": 15,
   "id": "polish-request",
   "metadata": {},
   "outputs": [
    {
     "data": {
      "image/png": "[encoded data removed]",
      "text/plain": [
       "<Figure size 1728x288 with 8 Axes>"
      ]
     },
     "metadata": {
      "needs_background": "light"
     },
     "output_type": "display_data"
    }
   ],
   "source": [
    "# Plot 8 samples for visualization\n",
    "utils.plot_sample_images(plotting_dataset, num_samples=8)"
   ]
  },
  {
   "cell_type": "code",
   "execution_count": 16,
   "id": "acute-movie",
   "metadata": {},
   "outputs": [],
   "source": [
    "plotting_dataset = plotting_dataset.map(lambda img, lab: process.data_augumentation(img, lab))"
   ]
  },
  {
   "cell_type": "code",
   "execution_count": 17,
   "id": "driving-tampa",
   "metadata": {},
   "outputs": [
    {
     "data": {
      "image/png": "[encoded data removed]",
      "text/plain": [
       "<Figure size 1728x288 with 8 Axes>"
      ]
     },
     "metadata": {
      "needs_background": "light"
     },
     "output_type": "display_data"
    }
   ],
   "source": [
    "# Plot 8 samples after data augumentation\n",
    "utils.plot_sample_images(plotting_dataset, num_samples=8)"
   ]
  },
  {
   "cell_type": "markdown",
   "id": "continental-warrant",
   "metadata": {},
   "source": [
    "# 4. Model training\n",
    "\n",
    "### Global variables for model training"
   ]
  },
  {
   "cell_type": "code",
   "execution_count": 18,
   "id": "removable-relaxation",
   "metadata": {},
   "outputs": [],
   "source": [
    "EPOCHS = 10\n",
    "BATCH_SIZE = 64\n",
    "TRAIN_SIZE = len(X_train)\n",
    "NUM_OF_BATCHES = np.floor(TRAIN_SIZE / BATCH_SIZE)"
   ]
  },
  {
   "cell_type": "markdown",
   "id": "respiratory-newman",
   "metadata": {},
   "source": [
    "### Prepare the training dataset"
   ]
  },
  {
   "cell_type": "code",
   "execution_count": 19,
   "id": "subjective-teddy",
   "metadata": {},
   "outputs": [],
   "source": [
    "train_batched = train_dataset.map(lambda img, lab: process.encode(img, lab))\n",
    "train_batched = train_batched.cache()\n",
    "train_batched = train_batched.map(lambda img, lab: process.data_augumentation(img, lab))\n",
    "train_batched = train_batched.shuffle(TRAIN_SIZE)\n",
    "train_batched = train_batched.batch(BATCH_SIZE)"
   ]
  },
  {
   "cell_type": "markdown",
   "id": "novel-christian",
   "metadata": {},
   "source": [
    "### Prepare the test dataset"
   ]
  },
  {
   "cell_type": "code",
   "execution_count": 20,
   "id": "excited-lloyd",
   "metadata": {},
   "outputs": [],
   "source": [
    "test_batched = test_dataset.map(lambda img, lab: process.encode(img,lab))\n",
    "test_batched = test_batched.cache()\n",
    "test_batched = test_batched.batch(BATCH_SIZE)"
   ]
  },
  {
   "cell_type": "markdown",
   "id": "closing-oriental",
   "metadata": {},
   "source": [
    "### Build a Convolutional Neural Network model using Tensorflow"
   ]
  },
  {
   "cell_type": "code",
   "execution_count": 21,
   "id": "detected-pressing",
   "metadata": {},
   "outputs": [
    {
     "name": "stdout",
     "output_type": "stream",
     "text": [
      "Model: \"sequential\"\n",
      "_________________________________________________________________\n",
      "Layer (type)                 Output Shape              Param #   \n",
      "=================================================================\n",
      "conv2d (Conv2D)              (None, 40, 40, 32)        896       \n",
      "_________________________________________________________________\n",
      "max_pooling2d (MaxPooling2D) (None, 20, 20, 32)        0         \n",
      "_________________________________________________________________\n",
      "conv2d_1 (Conv2D)            (None, 20, 20, 64)        18496     \n",
      "_________________________________________________________________\n",
      "max_pooling2d_1 (MaxPooling2 (None, 10, 10, 64)        0         \n",
      "_________________________________________________________________\n",
      "conv2d_2 (Conv2D)            (None, 10, 10, 128)       73856     \n",
      "_________________________________________________________________\n",
      "max_pooling2d_2 (MaxPooling2 (None, 5, 5, 128)         0         \n",
      "_________________________________________________________________\n",
      "flatten (Flatten)            (None, 3200)              0         \n",
      "_________________________________________________________________\n",
      "dense (Dense)                (None, 128)               409728    \n",
      "_________________________________________________________________\n",
      "dropout (Dropout)            (None, 128)               0         \n",
      "_________________________________________________________________\n",
      "dense_1 (Dense)              (None, 1)                 129       \n",
      "=================================================================\n",
      "Total params: 503,105\n",
      "Trainable params: 503,105\n",
      "Non-trainable params: 0\n",
      "_________________________________________________________________\n"
     ]
    }
   ],
   "source": [
    "new_model = cnn.build_model(40, 40, 3)\n",
    "new_model.summary()"
   ]
  },
  {
   "cell_type": "markdown",
   "id": "precise-harbor",
   "metadata": {},
   "source": [
    "### Model training\n",
    "\n",
    "1. Calculate the loss every batch.\n",
    "2. Use GradientTape to calculate the gradient of the loss and update the trainable weights\n",
    "3. If epoch number < 70% of total no. of epochs:\n",
    "        Train the whole network\n",
    "\n",
    "    If epoch number > 70% of total no. of epochs:\n",
    "        Train only the Dense layers and freeze rest."
   ]
  },
  {
   "cell_type": "code",
   "execution_count": 22,
   "id": "economic-ordinance",
   "metadata": {},
   "outputs": [],
   "source": [
    "# Define optimizer\n",
    "optimizer = tf.keras.optimizers.Adam(learning_rate=0.001)"
   ]
  },
  {
   "cell_type": "code",
   "execution_count": 23,
   "id": "subjective-textbook",
   "metadata": {},
   "outputs": [
    {
     "name": "stdout",
     "output_type": "stream",
     "text": [
      "[INFO] Executing epoch 1/10...\n",
      "Elapsed time=0.820902419090271\n",
      "Loss=0.5357171893119812\n",
      "[INFO] Executing epoch 2/10...\n",
      "Elapsed time=0.39897738297780355\n",
      "Loss=0.3925512433052063\n",
      "[INFO] Executing epoch 3/10...\n",
      "Elapsed time=0.4251423478126526\n",
      "Loss=0.35934171080589294\n",
      "[INFO] Executing epoch 4/10...\n",
      "Elapsed time=0.38149189949035645\n",
      "Loss=0.3516412079334259\n",
      "[INFO] Executing epoch 5/10...\n",
      "Elapsed time=0.38912320137023926\n",
      "Loss=0.3411995768547058\n",
      "[INFO] Executing epoch 6/10...\n",
      "Elapsed time=0.4110504309336344\n",
      "Loss=0.3362928330898285\n",
      "[INFO] Executing epoch 7/10...\n",
      "Elapsed time=0.39956716696421307\n",
      "Loss=0.3374585211277008\n",
      "[INFO] Executing epoch 8/10...\n",
      "Elapsed time=0.38950764735539756\n",
      "Loss=0.32689613103866577\n",
      "[INFO] Executing epoch 9/10...\n",
      "Elapsed time=0.4180405616760254\n",
      "Loss=0.3287130296230316\n",
      "[INFO] Executing epoch 10/10...\n",
      "Elapsed time=0.38336201508839923\n",
      "Loss=0.32275742292404175\n"
     ]
    }
   ],
   "source": [
    "train.train_model(Epochs=EPOCHS,\n",
    "                  train_data=train_batched,\n",
    "                  model=new_model,\n",
    "                  opt=optimizer,\n",
    "                  num_of_batches=NUM_OF_BATCHES\n",
    "                 )"
   ]
  },
  {
   "cell_type": "markdown",
   "id": "robust-cheat",
   "metadata": {},
   "source": [
    "### Model evaluation"
   ]
  },
  {
   "cell_type": "code",
   "execution_count": 24,
   "id": "thorough-scheduling",
   "metadata": {},
   "outputs": [],
   "source": [
    "new_model.compile(optimizer=optimizer,\n",
    "                  loss='binary_crossentropy',\n",
    "                  metrics=['accuracy']\n",
    "                 )"
   ]
  },
  {
   "cell_type": "code",
   "execution_count": 25,
   "id": "occupational-location",
   "metadata": {},
   "outputs": [
    {
     "name": "stdout",
     "output_type": "stream",
     "text": [
      "40/40 [==============================] - 4s 75ms/step - loss: 0.2558 - accuracy: 0.9195\n"
     ]
    }
   ],
   "source": [
    "(loss, accuracy) = new_model.evaluate(test_batched)"
   ]
  },
  {
   "cell_type": "markdown",
   "id": "exact-gibson",
   "metadata": {},
   "source": [
    "# 5. Future Improvements\n",
    "\n",
    "1. More capacity could be added in the model to see if it gives a better performance.\n",
    "\n",
    "2. The model parameters are not yet optimized. So is the number of epochs, batch size and so on\n",
    "\n",
    "3. A proper inference protocol is missing now i.e. separating the data into train, test, validation.\n",
    "\n",
    "4. At present only the Dense layers are trained after exausting 70% of epochs. Instead of that one could set a threshold criterion: for example if the validation loss goes below a certain threshold, then freeze the convolutional layers and only train the dense layers.\n",
    "\n",
    "5. One could also add one layer at a time after freezing the convolutional layers, train on the newly added layer and continue this process iteratively by gradually adding more capacity to the model. By adding layers successively, the training process can be made faster and more deeper networks can be built."
   ]
  },
  {
   "cell_type": "code",
   "execution_count": null,
   "id": "radio-stream",
   "metadata": {},
   "outputs": [],
   "source": []
  }
 ],
 "metadata": {
  "kernelspec": {
   "display_name": "Python 3",
   "language": "python",
   "name": "python3"
  },
  "language_info": {
   "codemirror_mode": {
    "name": "ipython",
    "version": 3
   },
   "file_extension": ".py",
   "mimetype": "text/x-python",
   "name": "python",
   "nbconvert_exporter": "python",
   "pygments_lexer": "ipython3",
   "version": "3.8.8"
  }
 },
 "nbformat": 4,
 "nbformat_minor": 5
}
